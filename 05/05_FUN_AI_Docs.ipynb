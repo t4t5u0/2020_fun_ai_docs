{
 "cells": [
  {
   "cell_type": "markdown",
   "metadata": {},
   "source": [
    "# GAN\n",
    "\n",
    "## 用語解説\n",
    "\n",
    "GAN Generative Adversarial Network 敵対的生成ネットワーク "
   ]
  },
  {
   "cell_type": "markdown",
   "metadata": {},
   "source": [
    "## 用語説明"
   ]
  },
  {
   "cell_type": "markdown",
   "metadata": {},
   "source": []
  },
  {
   "cell_type": "markdown",
   "metadata": {},
   "source": []
  },
  {
   "cell_type": "markdown",
   "metadata": {},
   "source": [
    "## 実装解説\n",
    "今回はDCGANというモデルを実装していく\n",
    "DCGANとは、Deep Convolutional Generatorを用いるGANの一種だ。もう1つの特徴として、活性化関数にLeakyReLUを用いることが挙げられる。"
   ]
  },
  {
   "cell_type": "code",
   "execution_count": 15,
   "metadata": {},
   "outputs": [],
   "source": [
    "# ライブラリのインポート\n",
    "\n",
    "import torch\n",
    "import torch.nn as nn\n",
    "import torch.optim as optim\n",
    "from torch.utils.data import (Dataset, DataLoader, TensorDataset)\n",
    "from torchvision.datasets import ImageFolder\n",
    "from torchvision.utils import save_image\n",
    "from torchvision import transforms\n",
    "from torch.utils.tensorboard import SummaryWriter\n",
    "from tqdm import tqdm"
   ]
  },
  {
   "cell_type": "code",
   "execution_count": 16,
   "metadata": {
    "tags": []
   },
   "outputs": [
    {
     "output_type": "stream",
     "name": "stdout",
     "text": [
      "/bin/bash: conda: コマンドが見つかりません\n",
      "torch==1.6.0\n",
      "torchaudio==0.6.0\n",
      "torchvision==0.7.0\n"
     ]
    }
   ],
   "source": [
    "!(conda list || pip freeze) | grep torch"
   ]
  },
  {
   "cell_type": "code",
   "execution_count": 17,
   "metadata": {},
   "outputs": [],
   "source": [
    "# Writer will output to ./runs/ directory by default\n",
    "writer = SummaryWriter('./param/05_6/')"
   ]
  },
  {
   "cell_type": "code",
   "execution_count": 18,
   "metadata": {},
   "outputs": [],
   "source": [
    "img_data = ImageFolder(\n",
    "    \"/home/t4t5u0/Develop/2020_fun_ai_docs/05/dataset/\",\n",
    "    transform=transforms.Compose([\n",
    "        transforms.Resize(80),\n",
    "        transforms.CenterCrop(64),\n",
    "        transforms.ToTensor()  \n",
    "    ])\n",
    ")\n",
    "\n",
    "batch_size = 128\n",
    "img_loader = DataLoader(img_data, \n",
    "                        batch_size=batch_size, \n",
    "                        shuffle=True,\n",
    "                        num_workers=16)"
   ]
  },
  {
   "cell_type": "code",
   "execution_count": 19,
   "metadata": {},
   "outputs": [],
   "source": [
    "nz = 100 # 潜在特徴量ベクトルの大きさ\n",
    "ngf =32 # Generator を介して伝播されるfeature map の深度\n",
    "\n",
    "class Geneartor(nn.Module):\n",
    "    def __init__(self):\n",
    "        super(Geneartor, self).__init__()\n",
    "        self.main = nn.Sequential(\n",
    "            nn.ConvTranspose2d(nz, ngf*8, 4, 1, 0, bias=False),\n",
    "            nn.BatchNorm2d(ngf*8),\n",
    "           # nn.ReLU(inplace=True),\n",
    "            nn.LeakyReLU(0.01,inplace=True),\n",
    "            \n",
    "            nn.ConvTranspose2d(ngf*8, ngf*4, 4, 2, 1, bias=False),\n",
    "            nn.BatchNorm2d(ngf*4),\n",
    "           # nn.ReLU(inplace=True),\n",
    "            nn.LeakyReLU(0.01,inplace=True),\n",
    "            \n",
    "            nn.ConvTranspose2d(ngf*4, ngf*2, 4, 2, 1, bias=False),\n",
    "            nn.BatchNorm2d(ngf*2),\n",
    "           # nn.ReLU(inplace=True),\n",
    "            nn.LeakyReLU(0.01,inplace=True),\n",
    "            \n",
    "            nn.ConvTranspose2d(ngf*2, ngf, 4, 2, 1, bias=False),\n",
    "            nn.BatchNorm2d(ngf),\n",
    "            # nn.ReLU(inplace=True),\n",
    "            nn.LeakyReLU(0.01,inplace=True),\n",
    "            \n",
    "            nn.ConvTranspose2d(ngf, 3, 4, 2, 1, bias=False),\n",
    "            nn.Tanh()\n",
    "        )\n",
    "    def forward(self, x):\n",
    "        return self.main(x)"
   ]
  },
  {
   "cell_type": "code",
   "execution_count": 20,
   "metadata": {
    "tags": []
   },
   "outputs": [],
   "source": [
    "# G = Geneartor()\n",
    "\n",
    "# def init_weights(m):\n",
    "#     print(m)\n",
    "#     classname = m.__class__.__name__\n",
    "#     print(classname.find('Conv'))\n",
    "#     if classname.find('Conv') == -1:\n",
    "#         nn.init.normal_(m.weight.data, 0, 0.02)\n",
    "#         nn.init.constant(m.bias.data, 0)\n",
    "#         print(m.weight.data, 0)\n",
    "#         print(m.bias.data)\n",
    "#     # elif classname.find('BatchNorm') == -1:\n",
    "#     #     nn.init.normal_(m.weight.data, 1.0, 0.02)\n",
    "#     #     nn.init.constant_(m.bias.data, 0)\n",
    "#     #     print(m.weight.data, 0)\n",
    "#     #     print(m.bias.data)\n",
    "\n",
    "# G.apply(init_weights)"
   ]
  },
  {
   "cell_type": "markdown",
   "metadata": {},
   "source": [
    "![fig1](./image/dcgan_generator.png)"
   ]
  },
  {
   "cell_type": "code",
   "execution_count": 21,
   "metadata": {},
   "outputs": [],
   "source": [
    "ndf = 32\n",
    "\n",
    "class Discremenator(nn.Module):\n",
    "    def __init__(self):\n",
    "        super(Discremenator, self).__init__()\n",
    "        self.main = nn.Sequential(\n",
    "            nn.Conv2d(3, ndf, 4, 2, 1, bias=False),\n",
    "            nn.LeakyReLU(0.2, inplace=True),\n",
    "            \n",
    "            nn.Conv2d(ndf, ndf*2, 4, 2, 1, bias=False),\n",
    "            nn.BatchNorm2d(ndf*2),\n",
    "            nn.LeakyReLU(0.2, inplace=True),\n",
    "            \n",
    "            nn.Conv2d(ndf*2, ndf*4, 4, 2, 1, bias=False),\n",
    "            nn.BatchNorm2d(ndf*4),\n",
    "            nn.LeakyReLU(0.2, inplace=True),\n",
    "            \n",
    "            nn.Conv2d(ndf*4, ndf*8, 4, 2, 1, bias=False),\n",
    "            nn.BatchNorm2d(ndf*8),\n",
    "            nn.LeakyReLU(0.2, inplace=True),\n",
    "            \n",
    "            nn.Conv2d( ndf*8, 1, 4, 1, 0, bias=False),\n",
    "            #nn.Sigmoid()\n",
    "        )\n",
    "        \n",
    "    def forward(self, x):\n",
    "        out = self.main(x)\n",
    "        return out.squeeze()"
   ]
  },
  {
   "cell_type": "code",
   "execution_count": 22,
   "metadata": {},
   "outputs": [],
   "source": [
    "#訓練関数を作成する\n",
    "d = Discremenator().to('cuda:0')\n",
    "g = Geneartor().to('cuda:0')\n",
    "\n",
    "#Adamのパラメータは原著参考\n",
    "opt_d = optim.Adam(d.parameters(), lr=0.0001, betas=(0.0, 0.9))\n",
    "\n",
    "opt_g = optim.Adam(g.parameters(), lr= 0.0004, betas=(0.0, 0.9))\n",
    "\n",
    "#交差エントロピー誤差を計算するための補助変数\n",
    "ones = torch.ones(batch_size).to('cuda:0')\n",
    "zeros = torch.zeros(batch_size).to('cuda:0')\n",
    "#loss_fnc = nn.BCEWithLogitsLoss()\n",
    "loss_fnc = nn.MSELoss()\n",
    "\n",
    "#モニタリング用の変数 z\n",
    "fixed_z = torch.randn(batch_size, nz, 1, 1).to('cuda:0')"
   ]
  },
  {
   "cell_type": "code",
   "execution_count": 23,
   "metadata": {},
   "outputs": [],
   "source": [
    "from statistics import mean\n",
    "\n",
    "def train_dcgan(g, d, opt_g, opt_d, loader, writer):\n",
    "    # 生成モデル\n",
    "    log_loss_g = []\n",
    "    log_loss_d = []\n",
    "    for real_img, _ in tqdm(loader):\n",
    "        batch_len = len(real_img)\n",
    "        \n",
    "        real_img = real_img.to('cuda:0')\n",
    "        \n",
    "        z = torch.randn(batch_len, nz, 1, 1).to('cuda:0')\n",
    "        fake_img = g(z)\n",
    "        \n",
    "        fake_img_tensor = fake_img.detach()\n",
    "        \n",
    "        out = d(fake_img)\n",
    "        loss_g = loss_fnc(out, ones[:batch_len])\n",
    "        log_loss_g.append(loss_g.item())\n",
    "        \n",
    "        # 勾配をクリアしてから微分とパラメータ更新を行う\n",
    "        d.zero_grad()\n",
    "        g.zero_grad()\n",
    "        loss_g.backward()\n",
    "        opt_g.step()\n",
    "        \n",
    "        # 実際の画像に対する識別モデルの評価関数を計算\n",
    "        real_out = d(real_img)\n",
    "        loss_d_real = loss_fnc(real_out, ones[:batch_len])\n",
    "        \n",
    "        # PyTorchでは同じTensorを含んだ計算グラフに対して\n",
    "        # 2回backwardを行うことができないから保存してあった\n",
    "        # Tensorを使用して無駄な計算を省く\n",
    "        fake_img = fake_img_tensor\n",
    "        \n",
    "        # 偽画像に対する識別モデルの評価関数の計算\n",
    "        fake_out = d(fake_img_tensor)\n",
    "        loss_d_fake = loss_fnc(fake_out, zeros[:batch_len])\n",
    "        \n",
    "        # 真偽の評価関数の合計値\n",
    "        loss_d = loss_d_real + loss_d_fake\n",
    "        log_loss_d.append(loss_d.item())\n",
    "        \n",
    "        # 識別モデルの微分計算とパラメータ更新\n",
    "        d.zero_grad()\n",
    "        g.zero_grad()\n",
    "        loss_d.backward()\n",
    "        opt_d.step()\n",
    "        \n",
    "        if writer is not None:\n",
    "            writer.add_scalars('loss', {\n",
    "                'D':log_loss_d[-1], 'G':log_loss_g[-1]\n",
    "                }, epoch)\n",
    "        \n",
    "    return mean(log_loss_g), mean(log_loss_d)"
   ]
  },
  {
   "cell_type": "code",
   "execution_count": 24,
   "metadata": {
    "scrolled": true
   },
   "outputs": [
    {
     "output_type": "stream",
     "name": "stderr",
     "text": [
      "  9%|▉         | 142/1583 [00:04<00:48, 29.80it/s]\n"
     ]
    },
    {
     "output_type": "error",
     "ename": "KeyboardInterrupt",
     "evalue": "",
     "traceback": [
      "\u001b[0;31m---------------------------------------------------------------------------\u001b[0m",
      "\u001b[0;31mKeyboardInterrupt\u001b[0m                         Traceback (most recent call last)",
      "\u001b[0;32m<ipython-input-24-3f072c47c550>\u001b[0m in \u001b[0;36m<module>\u001b[0;34m\u001b[0m\n\u001b[1;32m      1\u001b[0m \u001b[0;32mfor\u001b[0m \u001b[0mepoch\u001b[0m \u001b[0;32min\u001b[0m \u001b[0mrange\u001b[0m\u001b[0;34m(\u001b[0m\u001b[0;36m3000\u001b[0m\u001b[0;34m)\u001b[0m\u001b[0;34m:\u001b[0m\u001b[0;34m\u001b[0m\u001b[0;34m\u001b[0m\u001b[0m\n\u001b[0;32m----> 2\u001b[0;31m     \u001b[0mtrain_dcgan\u001b[0m\u001b[0;34m(\u001b[0m\u001b[0mg\u001b[0m\u001b[0;34m,\u001b[0m \u001b[0md\u001b[0m\u001b[0;34m,\u001b[0m \u001b[0mopt_g\u001b[0m\u001b[0;34m,\u001b[0m \u001b[0mopt_d\u001b[0m\u001b[0;34m,\u001b[0m \u001b[0mimg_loader\u001b[0m\u001b[0;34m,\u001b[0m \u001b[0mwriter\u001b[0m\u001b[0;34m)\u001b[0m\u001b[0;34m\u001b[0m\u001b[0;34m\u001b[0m\u001b[0m\n\u001b[0m\u001b[1;32m      3\u001b[0m \u001b[0;34m\u001b[0m\u001b[0m\n\u001b[1;32m      4\u001b[0m     \u001b[0;32mif\u001b[0m \u001b[0mepoch\u001b[0m\u001b[0;34m%\u001b[0m\u001b[0;36m10\u001b[0m \u001b[0;34m==\u001b[0m \u001b[0;36m0\u001b[0m\u001b[0;34m:\u001b[0m\u001b[0;34m\u001b[0m\u001b[0;34m\u001b[0m\u001b[0m\n\u001b[1;32m      5\u001b[0m         \u001b[0;31m# パラメータの保存\u001b[0m\u001b[0;34m\u001b[0m\u001b[0;34m\u001b[0m\u001b[0;34m\u001b[0m\u001b[0m\n",
      "\u001b[0;32m<ipython-input-23-8a09cc0d486f>\u001b[0m in \u001b[0;36mtrain_dcgan\u001b[0;34m(g, d, opt_g, opt_d, loader, writer)\u001b[0m\n\u001b[1;32m     40\u001b[0m         \u001b[0;31m# 真偽の評価関数の合計値\u001b[0m\u001b[0;34m\u001b[0m\u001b[0;34m\u001b[0m\u001b[0;34m\u001b[0m\u001b[0m\n\u001b[1;32m     41\u001b[0m         \u001b[0mloss_d\u001b[0m \u001b[0;34m=\u001b[0m \u001b[0mloss_d_real\u001b[0m \u001b[0;34m+\u001b[0m \u001b[0mloss_d_fake\u001b[0m\u001b[0;34m\u001b[0m\u001b[0;34m\u001b[0m\u001b[0m\n\u001b[0;32m---> 42\u001b[0;31m         \u001b[0mlog_loss_d\u001b[0m\u001b[0;34m.\u001b[0m\u001b[0mappend\u001b[0m\u001b[0;34m(\u001b[0m\u001b[0mloss_d\u001b[0m\u001b[0;34m.\u001b[0m\u001b[0mitem\u001b[0m\u001b[0;34m(\u001b[0m\u001b[0;34m)\u001b[0m\u001b[0;34m)\u001b[0m\u001b[0;34m\u001b[0m\u001b[0;34m\u001b[0m\u001b[0m\n\u001b[0m\u001b[1;32m     43\u001b[0m \u001b[0;34m\u001b[0m\u001b[0m\n\u001b[1;32m     44\u001b[0m         \u001b[0;31m# 識別モデルの微分計算とパラメータ更新\u001b[0m\u001b[0;34m\u001b[0m\u001b[0;34m\u001b[0m\u001b[0;34m\u001b[0m\u001b[0m\n",
      "\u001b[0;31mKeyboardInterrupt\u001b[0m: "
     ]
    }
   ],
   "source": [
    "for epoch in range(3000):\n",
    "    train_dcgan(g, d, opt_g, opt_d, img_loader, writer)\n",
    "    \n",
    "    if epoch%10 == 0:\n",
    "        # パラメータの保存\n",
    "        torch.save(\n",
    "            g.state_dict(),\n",
    "            \"./param/05_6/g_{:04d}.prm\".format(epoch),\n",
    "            pickle_protocol = 4\n",
    "        )\n",
    "        torch.save(\n",
    "            d.state_dict(),\n",
    "            \"./param/05_6/d_{:04d}.prm\".format(epoch),\n",
    "            pickle_protocol = 4\n",
    "        )\n",
    "        generated_img = g(fixed_z)\n",
    "        # generated_img = g(fixed_z)\n",
    "        save_image(generated_img,\n",
    "                  \"./param/05_6/image/{:04d}.jpg\".format(epoch)\n",
    "        )\n",
    "        "
   ]
  },
  {
   "cell_type": "markdown",
   "metadata": {},
   "source": [
    "演習"
   ]
  },
  {
   "cell_type": "code",
   "execution_count": 11,
   "metadata": {},
   "outputs": [],
   "source": [
    "def prediction(net, device):\n",
    "    pass"
   ]
  }
 ],
 "metadata": {
  "kernelspec": {
   "name": "Python 3.8.6 64-bit",
   "display_name": "Python 3.8.6 64-bit",
   "metadata": {
    "interpreter": {
     "hash": "767d51c1340bd893661ea55ea3124f6de3c7a262a8b4abca0554b478b1e2ff90"
    }
   }
  },
  "language_info": {
   "codemirror_mode": {
    "name": "ipython",
    "version": 3
   },
   "file_extension": ".py",
   "mimetype": "text/x-python",
   "name": "python",
   "nbconvert_exporter": "python",
   "pygments_lexer": "ipython3",
   "version": "3.8.6-final"
  }
 },
 "nbformat": 4,
 "nbformat_minor": 2
}