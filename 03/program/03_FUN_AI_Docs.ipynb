{
 "cells": [
  {
   "cell_type": "markdown",
   "metadata": {},
   "source": []
  },
  {
   "cell_type": "markdown",
   "metadata": {},
   "source": [
    "# 第三回\n",
    "今日は、全結合層を重ねたシンプルな深層学習ネットワークを用いて、手書き文字認識を行い、Kaggle に提出をしてみます。\n",
    "\n",
    "今回、チャレンジするコンペは、[digit-recognizer](https://www.kaggle.com/c/digit-recognizer/) という常設のチュートリアルのようなものです。\n",
    "\n",
    "データセットは[ここ](https://www.kaggle.com/c/digit-recognizer/data)から  \n",
    "`../input/digit-recognizer/`にダウンロードしてください\n",
    "\n",
    "![](../image/03.png)"
   ]
  },
  {
   "cell_type": "markdown",
   "metadata": {},
   "source": [
    "## MLP\n",
    "全結合層のみで構成されているやつ。\n",
    "\n",
    "![](../image/02.png)\n",
    "\n",
    "各層で、前の層から入力された重み付き線形和を計算し、次の層に流していきます。"
   ]
  },
  {
   "cell_type": "markdown",
   "metadata": {},
   "source": [
    "## ReLU function\n",
    "正規化線形関数  \n",
    "近年の深層学習で、中間層の活性化関数として主に使われている。\n",
    "$$ \\mathrm{ReLU}(x) = \\max(0, x)$$ で表される関数"
   ]
  },
  {
   "cell_type": "markdown",
   "metadata": {},
   "source": [
    "## softmax function\n",
    "活性化関数の1つ。  \n",
    "特徴として\n",
    "- 合計が1ですべて正　(確率として使える)\n",
    "- sigmoid 関数の多変数拡張  \n",
    "というものがある。sigmoid云々の話はPRMLにあるので、そちらを見てください。(PRML 上巻 p196)\n",
    "\n",
    "名前の由来はソフト(滑らかな)マックス関数。該当クラスの確率が極端に高くなることから、多クラス分類の最後に使われることが多い。\n",
    "\n",
    "定義式：  \n",
    "\n",
    "$$ \\mathrm{softmax}(\\mathbb{a}) = \\frac{\\exp(a_k)}{\\sum_j \\exp(a_j)} $$\n",
    "\n",
    "[参考](https://www.youtube.com/watch?v=5CwLT-IQB9E)"
   ]
  },
  {
   "cell_type": "code",
   "execution_count": 1,
   "metadata": {},
   "outputs": [],
   "source": [
    "# モジュール読み込み\n",
    "import numpy as np\n",
    "import pandas as pd\n",
    "import torch\n",
    "import torch.nn as nn\n",
    "import torch.optim as optim\n",
    "from sklearn.model_selection import train_test_split\n",
    "from torch.utils.data import DataLoader, Dataset, TensorDataset\n",
    "from tqdm import tqdm\n",
    "import matplotlib.pyplot as plt"
   ]
  },
  {
   "cell_type": "code",
   "execution_count": 2,
   "metadata": {},
   "outputs": [
    {
     "output_type": "display_data",
     "data": {
      "text/plain": "<Figure size 432x288 with 1 Axes>",
      "image/svg+xml": "<?xml version=\"1.0\" encoding=\"utf-8\" standalone=\"no\"?>\n<!DOCTYPE svg PUBLIC \"-//W3C//DTD SVG 1.1//EN\"\n  \"http://www.w3.org/Graphics/SVG/1.1/DTD/svg11.dtd\">\n<!-- Created with matplotlib (https://matplotlib.org/) -->\n<svg height=\"246.958125pt\" version=\"1.1\" viewBox=\"0 0 231.84 246.958125\" width=\"231.84pt\" xmlns=\"http://www.w3.org/2000/svg\" xmlns:xlink=\"http://www.w3.org/1999/xlink\">\n <defs>\n  <style type=\"text/css\">\n*{stroke-linecap:butt;stroke-linejoin:round;}\n  </style>\n </defs>\n <g id=\"figure_1\">\n  <g id=\"patch_1\">\n   <path d=\"M 0 246.958125 \nL 231.84 246.958125 \nL 231.84 0 \nL 0 0 \nz\n\" style=\"fill:none;\"/>\n  </g>\n  <g id=\"axes_1\">\n   <g clip-path=\"url(#pb6dcda7168)\">\n    <image height=\"218\" id=\"image5099b5b93b\" transform=\"scale(1 -1)translate(0 -218)\" width=\"218\" x=\"7.2\" xlink:href=\"data:image/png;base64,\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\" y=\"-21.758125\"/>\n   </g>\n   <g id=\"text_1\">\n    <!-- 8.0 -->\n    <defs>\n     <path d=\"M 31.78125 34.625 \nQ 24.75 34.625 20.71875 30.859375 \nQ 16.703125 27.09375 16.703125 20.515625 \nQ 16.703125 13.921875 20.71875 10.15625 \nQ 24.75 6.390625 31.78125 6.390625 \nQ 38.8125 6.390625 42.859375 10.171875 \nQ 46.921875 13.96875 46.921875 20.515625 \nQ 46.921875 27.09375 42.890625 30.859375 \nQ 38.875 34.625 31.78125 34.625 \nz\nM 21.921875 38.8125 \nQ 15.578125 40.375 12.03125 44.71875 \nQ 8.5 49.078125 8.5 55.328125 \nQ 8.5 64.0625 14.71875 69.140625 \nQ 20.953125 74.21875 31.78125 74.21875 \nQ 42.671875 74.21875 48.875 69.140625 \nQ 55.078125 64.0625 55.078125 55.328125 \nQ 55.078125 49.078125 51.53125 44.71875 \nQ 48 40.375 41.703125 38.8125 \nQ 48.828125 37.15625 52.796875 32.3125 \nQ 56.78125 27.484375 56.78125 20.515625 \nQ 56.78125 9.90625 50.3125 4.234375 \nQ 43.84375 -1.421875 31.78125 -1.421875 \nQ 19.734375 -1.421875 13.25 4.234375 \nQ 6.78125 9.90625 6.78125 20.515625 \nQ 6.78125 27.484375 10.78125 32.3125 \nQ 14.796875 37.15625 21.921875 38.8125 \nz\nM 18.3125 54.390625 \nQ 18.3125 48.734375 21.84375 45.5625 \nQ 25.390625 42.390625 31.78125 42.390625 \nQ 38.140625 42.390625 41.71875 45.5625 \nQ 45.3125 48.734375 45.3125 54.390625 \nQ 45.3125 60.0625 41.71875 63.234375 \nQ 38.140625 66.40625 31.78125 66.40625 \nQ 25.390625 66.40625 21.84375 63.234375 \nQ 18.3125 60.0625 18.3125 54.390625 \nz\n\" id=\"DejaVuSans-56\"/>\n     <path d=\"M 10.6875 12.40625 \nL 21 12.40625 \nL 21 0 \nL 10.6875 0 \nz\n\" id=\"DejaVuSans-46\"/>\n     <path d=\"M 31.78125 66.40625 \nQ 24.171875 66.40625 20.328125 58.90625 \nQ 16.5 51.421875 16.5 36.375 \nQ 16.5 21.390625 20.328125 13.890625 \nQ 24.171875 6.390625 31.78125 6.390625 \nQ 39.453125 6.390625 43.28125 13.890625 \nQ 47.125 21.390625 47.125 36.375 \nQ 47.125 51.421875 43.28125 58.90625 \nQ 39.453125 66.40625 31.78125 66.40625 \nz\nM 31.78125 74.21875 \nQ 44.046875 74.21875 50.515625 64.515625 \nQ 56.984375 54.828125 56.984375 36.375 \nQ 56.984375 17.96875 50.515625 8.265625 \nQ 44.046875 -1.421875 31.78125 -1.421875 \nQ 19.53125 -1.421875 13.0625 8.265625 \nQ 6.59375 17.96875 6.59375 36.375 \nQ 6.59375 54.828125 13.0625 64.515625 \nQ 19.53125 74.21875 31.78125 74.21875 \nz\n\" id=\"DejaVuSans-48\"/>\n    </defs>\n    <g transform=\"translate(106.378125 16.318125)scale(0.12 -0.12)\">\n     <use xlink:href=\"#DejaVuSans-56\"/>\n     <use x=\"63.623047\" xlink:href=\"#DejaVuSans-46\"/>\n     <use x=\"95.410156\" xlink:href=\"#DejaVuSans-48\"/>\n    </g>\n   </g>\n  </g>\n </g>\n <defs>\n  <clipPath id=\"pb6dcda7168\">\n   <rect height=\"217.44\" width=\"217.44\" x=\"7.2\" y=\"22.318125\"/>\n  </clipPath>\n </defs>\n</svg>\n",
      "image/png": "[encoded data removed]"
     },
     "metadata": {
      "needs_background": "light"
     }
    }
   ],
   "source": [
    "# データを読み込み\n",
    "train = pd.read_csv(r\"../input/digit-recognizer/train.csv\", dtype=np.float32)\n",
    "\n",
    "# split data into features(pixels) and labels(numbers from 0 to 9)\n",
    "# ラベル(0-9)\n",
    "targets_numpy = train.label.values\n",
    "# 画像データセット (784x1に伸ばされている)\n",
    "features_numpy = train.loc[:, train.columns != \"label\"].values/255\n",
    "\n",
    "# 訓練用とテスト用にデータセットを分割\n",
    "features_train, features_test, targets_train, targets_test = train_test_split(\n",
    "    features_numpy, targets_numpy, test_size=0.2, random_state=42)\n",
    "\n",
    "# create feature and targets tensor for train set. As you remember we need variable to accumulate gradients. Therefore first we create tensor, then we will create variable\n",
    "# NumPy配列からTensorに変換\n",
    "featuresTrain = torch.from_numpy(features_train)\n",
    "targetsTrain = torch.from_numpy(targets_train).type(torch.LongTensor) # data type is long\n",
    "\n",
    "# create feature and targets tensor for test set.\n",
    "# NumPy配列からTensorに変換\n",
    "featuresTest = torch.from_numpy(features_test)\n",
    "targetsTest = torch.from_numpy(targets_test).type(torch.LongTensor) # data type is long\n",
    "\n",
    "# batch_size, epoch and iteration\n",
    "# バッチサイズとエポック数を決定\n",
    "batch_size = 100\n",
    "n_iters = 10000\n",
    "num_epochs = n_iters / (len(features_train) / batch_size)\n",
    "num_epochs = int(num_epochs)\n",
    "\n",
    "# Pytorch train and test sets\n",
    "# 画像とラベルの組をデータセット に変換\n",
    "train = TensorDataset(featuresTrain,targetsTrain)\n",
    "test = TensorDataset(featuresTest,targetsTest)\n",
    "\n",
    "# data loader\n",
    "# ミニバッチ用のデータローダーを作成\n",
    "train_loader = DataLoader(train, batch_size = batch_size, shuffle = True)\n",
    "test_loader = DataLoader(test, batch_size = batch_size, shuffle = False)\n",
    "\n",
    "# visualize one of the images in data set\n",
    "# 画像を可視化\n",
    "plt.imshow(features_numpy[10].reshape(28,28))\n",
    "plt.axis(\"off\")\n",
    "plt.title(str(targets_numpy[10]))\n",
    "plt.savefig('graph.png')\n",
    "plt.show()"
   ]
  },
  {
   "cell_type": "code",
   "execution_count": 3,
   "metadata": {},
   "outputs": [],
   "source": [
    "# 入力は28*28 の 784次元\n",
    "input_dim = 28*28\n",
    "# 出力は0-9 の10次元\n",
    "output_dim = 10"
   ]
  },
  {
   "cell_type": "code",
   "execution_count": 4,
   "metadata": {},
   "outputs": [],
   "source": [
    "# ネットワーク定義。今回は３層のMLP\n",
    "class MLP(nn.Module):\n",
    "    def __init__(self, input_dim, output_dim):\n",
    "        super(MLP, self).__init__()\n",
    "        # ネットワーク定義\n",
    "        self.mlp = nn.Sequential(\n",
    "            # 全結合層\n",
    "            nn.Linear(input_dim, 256),\n",
    "            # 活性化関数\n",
    "            nn.ReLU(),\n",
    "            # 全結合層\n",
    "            nn.Linear(256, 256),\n",
    "            # 活性化関数\n",
    "            nn.ReLU(),\n",
    "            # 全結合層\n",
    "            nn.Linear(256, output_dim),\n",
    "            # 活性化関数\n",
    "            nn.Softmax()\n",
    "        )\n",
    "    def forward(self, x):\n",
    "        return self.mlp(x)"
   ]
  },
  {
   "cell_type": "code",
   "execution_count": 5,
   "metadata": {},
   "outputs": [],
   "source": [
    "# 評価関数\n",
    "def eval_net(net, data_loader, device=\"cpu\"):\n",
    "    net.eval()\n",
    "    labels = []\n",
    "    labels_preds= []\n",
    "    for image, label in data_loader:\n",
    "        image = image.to(device)\n",
    "        label = label.to(device)\n",
    "        with torch.no_grad():\n",
    "            _, label_pred = net(image).max(1)\n",
    "        labels.append(label)\n",
    "        labels_preds.append(label_pred)\n",
    "\n",
    "    labels = torch.cat(labels)\n",
    "    labels_preds = torch.cat(labels_preds)\n",
    "\n",
    "    # CSVファイルを吐き出さなければいけない\n",
    "    # 推論したラベルはlabelsに入ってる。画像のIDは知らない\n",
    "\n",
    "    acc = (labels == labels_preds).float().sum() / len(labels)\n",
    "    return acc"
   ]
  },
  {
   "cell_type": "code",
   "execution_count": 6,
   "metadata": {},
   "outputs": [],
   "source": [
    "# 訓練用の関数\n",
    "def train_net(net, train_loader, test_loader, optimizer, loss_fn, n_iters=10, device=\"cpu\"):\n",
    "    # \n",
    "    train_losses = []\n",
    "    train_acc = []\n",
    "    val_acc = []\n",
    "    for epoch in range(n_iters):\n",
    "        running_loss = 0.\n",
    "        net.train()\n",
    "        n = 0\n",
    "        srore = 0\n",
    "\n",
    "        for i, (images, labels) in tqdm(enumerate(train_loader),total=len(train_loader)):\n",
    "            images = images.to(device)\n",
    "            labels = labels.to(device)\n",
    "            label_pred = net(images)\n",
    "            loss = loss_fn(label_pred, labels)\n",
    "            optimizer.zero_grad()\n",
    "            loss.backward()\n",
    "            optimizer.step()\n",
    "            running_loss += loss.item()\n",
    "\n",
    "        train_losses.append(running_loss / len(train_loader))\n",
    "        # train_acc.append(n_a)\n",
    "        val_acc.append(eval_net(net, test_loader, device))\n",
    "        print(epoch, train_losses[-1], val_acc[-1], flush=True)"
   ]
  },
  {
   "cell_type": "code",
   "execution_count": 7,
   "metadata": {
    "tags": []
   },
   "outputs": [
    {
     "output_type": "stream",
     "name": "stderr",
     "text": "100%|██████████| 336/336 [00:00<00:00, 426.04it/s]0 1.6867121717049962 tensor(0.8298, device='cuda:0')\n\n100%|██████████| 336/336 [00:00<00:00, 544.72it/s]1 1.6012142548958461 tensor(0.9329, device='cuda:0')\n\n100%|██████████| 336/336 [00:00<00:00, 535.31it/s]2 1.5189935348573185 tensor(0.9494, device='cuda:0')\n\n100%|██████████| 336/336 [00:00<00:00, 529.94it/s]3 1.503878938300269 tensor(0.9585, device='cuda:0')\n\n100%|██████████| 336/336 [00:00<00:00, 538.10it/s]4 1.4963589342577117 tensor(0.9590, device='cuda:0')\n\n100%|██████████| 336/336 [00:00<00:00, 525.98it/s]\n5 1.4913580389249892 tensor(0.9540, device='cuda:0')\n100%|██████████| 336/336 [00:00<00:00, 532.93it/s]6 1.4870836610595386 tensor(0.9619, device='cuda:0')\n\n100%|██████████| 336/336 [00:00<00:00, 530.57it/s]7 1.4849073372426487 tensor(0.9629, device='cuda:0')\n\n100%|██████████| 336/336 [00:00<00:00, 524.23it/s]\n8 1.4832288317737126 tensor(0.9637, device='cuda:0')\n100%|██████████| 336/336 [00:00<00:00, 536.88it/s]9 1.4799878810133253 tensor(0.9675, device='cuda:0')\n\n100%|██████████| 336/336 [00:00<00:00, 526.36it/s]10 1.4792401769331522 tensor(0.9679, device='cuda:0')\n\n100%|██████████| 336/336 [00:00<00:00, 524.72it/s]\n11 1.4773609471463023 tensor(0.9702, device='cuda:0')\n100%|██████████| 336/336 [00:00<00:00, 528.47it/s]\n12 1.4754283087594169 tensor(0.9690, device='cuda:0')\n100%|██████████| 336/336 [00:00<00:00, 503.09it/s]\n13 1.4757207007635207 tensor(0.9686, device='cuda:0')\n100%|██████████| 336/336 [00:00<00:00, 504.12it/s]\n14 1.4746933597184362 tensor(0.9676, device='cuda:0')\n100%|██████████| 336/336 [00:00<00:00, 506.69it/s]\n15 1.474091486561866 tensor(0.9715, device='cuda:0')\n100%|██████████| 336/336 [00:00<00:00, 498.00it/s]\n16 1.4737925171142532 tensor(0.9698, device='cuda:0')\n100%|██████████| 336/336 [00:00<00:00, 497.66it/s]\n17 1.4725602364965849 tensor(0.9727, device='cuda:0')\n100%|██████████| 336/336 [00:00<00:00, 501.83it/s]\n18 1.4720828359325726 tensor(0.9680, device='cuda:0')\n100%|██████████| 336/336 [00:00<00:00, 496.77it/s]\n19 1.4728608099477631 tensor(0.9720, device='cuda:0')\n"
    }
   ],
   "source": [
    "net = MLP(input_dim, output_dim)\n",
    "loss_fn = nn.CrossEntropyLoss()\n",
    "\n",
    "lr = 0.001\n",
    "optimizer = optim.Adam(net.parameters(), lr=lr)\n",
    "\n",
    "# データをGPUに渡す\n",
    "device = 'cuda:0' if torch.cuda.is_available() else 'cpu'\n",
    "net.to(device)\n",
    "\n",
    "# 訓練を実行\n",
    "train_net(net, train_loader, test_loader, optimizer=optimizer, loss_fn=loss_fn, n_iters=20, device=device)\n"
   ]
  },
  {
   "cell_type": "code",
   "execution_count": 8,
   "metadata": {},
   "outputs": [],
   "source": [
    "# パラメータを保存\n",
    "torch.save(net.state_dict(), r'../param/model.prm')"
   ]
  },
  {
   "cell_type": "code",
   "execution_count": 9,
   "metadata": {},
   "outputs": [],
   "source": [
    "# 検証用データセットを作成\n",
    "test = pd.read_csv(r\"../input/digit-recognizer/test.csv\", dtype=np.float32)\n",
    "\n",
    "# データを正規化し、Tensorを作る\n",
    "features_test = test.values/255\n",
    "features_test = torch.from_numpy(features_test)\n",
    "test = TensorDataset(features_test)\n",
    "\n",
    "# データローダを作成\n",
    "test_loader = DataLoader(test, batch_size=batch_size, shuffle=False)"
   ]
  },
  {
   "cell_type": "code",
   "execution_count": 10,
   "metadata": {},
   "outputs": [],
   "source": [
    "# 推論用の関数\n",
    "def prediction(data_loader, device='cpu'):\n",
    "    # パラメータの読み込み\n",
    "    net.load_state_dict(torch.load(r'../param/model.prm', map_location=device))\n",
    "    net.eval()\n",
    "    test_pred = torch.LongTensor()\n",
    "\n",
    "    for images in data_loader:\n",
    "        images = images[0].to(device)\n",
    "        output = net(images)\n",
    "        _, pred = output.cpu().data.max(1, keepdim=True)\n",
    "        test_pred = torch.cat((test_pred, pred), dim=0)\n",
    "    return test_pred"
   ]
  },
  {
   "cell_type": "code",
   "execution_count": 11,
   "metadata": {},
   "outputs": [],
   "source": [
    "# 推論を行う\n",
    "test_pred = prediction(test_loader, device=device)\n",
    "\n",
    "# データの整形\n",
    "out_df = pd.DataFrame(np.c_[np.arange(1, len(test)+1)[:,None],\n",
    "    test_pred.numpy()], columns=['ImageId', 'Label'])\n",
    "\n",
    "# 出力\n",
    "out_df.head()\n",
    "out_df.to_csv('submission.csv', index=False)"
   ]
  },
  {
   "cell_type": "code",
   "execution_count": null,
   "metadata": {},
   "outputs": [],
   "source": []
  }
 ],
 "metadata": {
  "language_info": {
   "codemirror_mode": {
    "name": "ipython",
    "version": 3
   },
   "file_extension": ".py",
   "mimetype": "text/x-python",
   "name": "python",
   "nbconvert_exporter": "python",
   "pygments_lexer": "ipython3",
   "version": "3.7.5-final"
  },
  "orig_nbformat": 2,
  "kernelspec": {
   "name": "python37564bitpytorchcondac1588a0183c145a7ad887ad140edf980",
   "display_name": "Python 3.7.5 64-bit ('pytorch': conda)"
  }
 },
 "nbformat": 4,
 "nbformat_minor": 2
}