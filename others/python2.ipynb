{
 "cells": [
  {
   "cell_type": "markdown",
   "metadata": {},
   "source": [
    "今日やること\n",
    "- 辞書型\n",
    "- 3項演算子\n",
    "- リスト内包表記とジェネレータ式\n",
    "- enumerate\n",
    "- pathlib"
   ]
  },
  {
   "cell_type": "markdown",
   "metadata": {},
   "source": [
    "## 辞書型\n",
    "key と value を関連付けて保存するやつ。value には任意の値を使用可能。list型も大丈夫\n",
    "他の言語だと、連想配列と呼ばれることもある  \n",
    "key を取り出したいときは、keys()  \n",
    "value を取り出したいときは、values()  \n",
    "両方を取り出したいときは、items()  \n",
    "\n",
    "要素にアクセスするときは、dict_obj`[key]` で key が入っているvalue にアクセスできる\n",
    "\n"
   ]
  },
  {
   "cell_type": "code",
   "execution_count": 1,
   "metadata": {},
   "outputs": [],
   "source": [
    "human = {'name': 'hoge', 'age': -1, 'height': -1, 'weight': -1 }"
   ]
  },
  {
   "cell_type": "code",
   "execution_count": 7,
   "metadata": {},
   "outputs": [
    {
     "output_type": "stream",
     "name": "stdout",
     "text": "tatsuo\n19\n160\n55\n"
    }
   ],
   "source": [
    "for key in human.values():\n",
    "    print(key)"
   ]
  },
  {
   "cell_type": "code",
   "execution_count": 8,
   "metadata": {},
   "outputs": [
    {
     "output_type": "error",
     "ename": "ValueError",
     "evalue": "invalid literal for int() with base 10: ''",
     "traceback": [
      "\u001b[0;31m---------------------------------------------------------------------------\u001b[0m",
      "\u001b[0;31mValueError\u001b[0m                                Traceback (most recent call last)",
      "\u001b[0;32m<ipython-input-8-6aa84667d9fa>\u001b[0m in \u001b[0;36m<module>\u001b[0;34m\u001b[0m\n\u001b[1;32m      4\u001b[0m     \u001b[0mmydata\u001b[0m\u001b[0;34m[\u001b[0m\u001b[0mkey\u001b[0m\u001b[0;34m]\u001b[0m \u001b[0;34m=\u001b[0m \u001b[0minput\u001b[0m\u001b[0;34m(\u001b[0m\u001b[0;34mf'{key}: '\u001b[0m\u001b[0;34m)\u001b[0m\u001b[0;34m\u001b[0m\u001b[0;34m\u001b[0m\u001b[0m\n\u001b[1;32m      5\u001b[0m     \u001b[0;32mif\u001b[0m \u001b[0mkey\u001b[0m \u001b[0;32min\u001b[0m \u001b[0;34m[\u001b[0m\u001b[0;34m'age'\u001b[0m\u001b[0;34m,\u001b[0m \u001b[0;34m'height'\u001b[0m\u001b[0;34m,\u001b[0m \u001b[0;34m'weight'\u001b[0m\u001b[0;34m]\u001b[0m\u001b[0;34m:\u001b[0m\u001b[0;34m\u001b[0m\u001b[0;34m\u001b[0m\u001b[0m\n\u001b[0;32m----> 6\u001b[0;31m         \u001b[0mmydata\u001b[0m\u001b[0;34m[\u001b[0m\u001b[0mkey\u001b[0m\u001b[0;34m]\u001b[0m \u001b[0;34m=\u001b[0m \u001b[0mint\u001b[0m\u001b[0;34m(\u001b[0m\u001b[0mmydata\u001b[0m\u001b[0;34m[\u001b[0m\u001b[0mkey\u001b[0m\u001b[0;34m]\u001b[0m\u001b[0;34m)\u001b[0m\u001b[0;34m\u001b[0m\u001b[0;34m\u001b[0m\u001b[0m\n\u001b[0m\u001b[1;32m      7\u001b[0m \u001b[0;34m\u001b[0m\u001b[0m\n\u001b[1;32m      8\u001b[0m \u001b[0mprint\u001b[0m\u001b[0;34m(\u001b[0m\u001b[0mmydata\u001b[0m\u001b[0;34m)\u001b[0m\u001b[0;34m\u001b[0m\u001b[0;34m\u001b[0m\u001b[0m\n",
      "\u001b[0;31mValueError\u001b[0m: invalid literal for int() with base 10: ''"
     ]
    }
   ],
   "source": [
    "from copy import deepcopy\n",
    "mydata = deepcopy(human)\n",
    "for key in mydata.keys():\n",
    "    mydata[key] = input(f'{key}: ')\n",
    "    if key in ['age', 'height', 'weight']:\n",
    "        mydata[key] = int(mydata[key])\n",
    "\n",
    "print(mydata)"
   ]
  },
  {
   "cell_type": "code",
   "execution_count": 5,
   "metadata": {},
   "outputs": [
    {
     "output_type": "stream",
     "name": "stdout",
     "text": "('name', 'tatsuo')\n('age', 19)\n('height', 160)\n('weight', 55)\n"
    }
   ],
   "source": [
    "for item in mydata.items():\n",
    "    print(item)"
   ]
  },
  {
   "cell_type": "code",
   "execution_count": 6,
   "metadata": {},
   "outputs": [
    {
     "output_type": "stream",
     "name": "stdout",
     "text": "name tatsuo\nage 19\nheight 160\nweight 55\n"
    }
   ],
   "source": [
    "for key, value in mydata.items():\n",
    "    print(key, value)"
   ]
  },
  {
   "cell_type": "markdown",
   "metadata": {},
   "source": [
    "## ３項演算子\n",
    "if 文を演算子として書き直したもの。記法は"
   ]
  },
  {
   "cell_type": "code",
   "execution_count": 9,
   "metadata": {},
   "outputs": [
    {
     "output_type": "execute_result",
     "data": {
      "text/plain": "'Trueのときの処理'"
     },
     "metadata": {},
     "execution_count": 9
    }
   ],
   "source": [
    "条件式 = True\n",
    "'Trueのときの処理' if 条件式 else 'Falseのときの処理'"
   ]
  },
  {
   "cell_type": "code",
   "execution_count": 11,
   "metadata": {},
   "outputs": [
    {
     "output_type": "execute_result",
     "data": {
      "text/plain": "'2の倍数でも3の倍数でもない'"
     },
     "metadata": {},
     "execution_count": 11
    }
   ],
   "source": [
    "x = int(input())\n",
    "'2の倍数' if x%2==0 else '3の倍数' if x%3==0 else '2の倍数でも3の倍数でもない' "
   ]
  },
  {
   "cell_type": "markdown",
   "metadata": {},
   "source": [
    "Javaの三項演算子\n",
    "条件式 ? True : False;"
   ]
  },
  {
   "cell_type": "markdown",
   "metadata": {},
   "source": [
    "他の言語よりも個人的には読みやすいと思う。  \n",
    "Falseのときの処理にもう一度３項演算子を書くことで入れ子にできる   \n",
    "ただし、非推奨(可読性が最悪なので)"
   ]
  },
  {
   "cell_type": "markdown",
   "metadata": {},
   "source": [
    "## リスト内包表記\n",
    "集合の表記法には2つがある。1つが外延表記だ。  \n",
    "これは、要素を全列挙する方法。もう1つは内包表記。  \n",
    "これは、集合の条件を列挙する方法だ。\n",
    "リスト内包表記と似た概念として、辞書内包表記や、集合内包表記がある\n",
    "記法は  "
   ]
  },
  {
   "cell_type": "markdown",
   "metadata": {},
   "source": [
    "x = {0, 1, 2, ..., n}  \n",
    "x = {x | x ∈ Z , 0 <= x <= n}"
   ]
  },
  {
   "cell_type": "code",
   "execution_count": 14,
   "metadata": {},
   "outputs": [
    {
     "output_type": "stream",
     "name": "stdout",
     "text": "[0, 2, 4, 6, 8, 10, 12, 14, 16, 18]\n"
    }
   ],
   "source": [
    "# 適当にいじって遊ぶよう\n",
    "obj = 0\n",
    "iterable = range(10)\n",
    "\n",
    "# ls = [obj for item in iterable]\n",
    "ls = [item*2 for item in iterable]\n",
    "# ls = [obj for _ in iterable]\n",
    "print(ls)"
   ]
  },
  {
   "cell_type": "markdown",
   "metadata": {},
   "source": [
    "\n",
    "\n",
    "で、for文を1行で書いているのに近い。   \n",
    "iterableは別のリストやrangeオブジェクトなど  \n",
    "item は イテラブルから要素を1つ取り出したもの  \n",
    "obj は実際にリストの中身として挿入したいもの\n",
    "これを、内包表記を使わずに書くと、\n"
   ]
  },
  {
   "cell_type": "code",
   "execution_count": 16,
   "metadata": {},
   "outputs": [
    {
     "output_type": "stream",
     "name": "stdout",
     "text": "[0, 2, 4, 6, 8, 10, 12, 14, 16, 18]\n"
    }
   ],
   "source": [
    "ls = []\n",
    "for item in iterable:\n",
    "    ls.append(item*2)\n",
    "print(ls)"
   ]
  },
  {
   "cell_type": "markdown",
   "metadata": {},
   "source": [
    "となる。これは速度面で不利なので、上のようなことをしたいなら、なるべく内包表記を使おうという話。  \n",
    "内包表記は入れ子にすることができたり、条件を付与することができる。  \n",
    "そういうことをすると、可読性が落ちるので程々に使用すること"
   ]
  },
  {
   "cell_type": "markdown",
   "metadata": {},
   "source": [
    "## ジェネレータ式\n",
    "リスト内包表記とよく似ているが、遅延評価される部分が違う。メモリ効率がよいので、こちらを使えるときはこちらを使おう  \n",
    "また、前回途中まで使ったところが保存されていることにも注意すること\n",
    "\n",
    "即時評価と遅延評価  \n",
    "即時評価は、その変数が宣言されたときに、中身が評価されること  \n",
    "それに対し、遅延評価はその変数が呼ばれるまで評価されない  \n",
    "即時評価は常に、メモリを大きく占有するが、遅延評価ではそのようなことがおこらない。  \n",
    "また、無限長のリスト内包表記を作ると怒られるが、無限長のジェネレータ式は怒られない"
   ]
  },
  {
   "cell_type": "code",
   "execution_count": 17,
   "metadata": {},
   "outputs": [],
   "source": [
    "# 実行しないほうがいい(しばらく返ってこなくなるので)\n",
    "from itertools import count\n",
    "ls = [i for i in count()]\n",
    "print(ls)"
   ]
  },
  {
   "cell_type": "code",
   "execution_count": 1,
   "metadata": {},
   "outputs": [
    {
     "output_type": "stream",
     "name": "stdout",
     "text": "<generator object <genexpr> at 0x7ff42c09a750>\n"
    }
   ],
   "source": [
    "from itertools import count\n",
    "gen = (i for i in count())\n",
    "print(gen)"
   ]
  },
  {
   "cell_type": "markdown",
   "metadata": {},
   "source": [
    "こちらも同じく可読性が落ちる場合は、一行で書かないほうがいい"
   ]
  },
  {
   "cell_type": "code",
   "execution_count": 2,
   "metadata": {},
   "outputs": [
    {
     "output_type": "stream",
     "name": "stdout",
     "text": "1\n2\nFizz\n4\nBuzz\nFizz\n7\n8\nFizz\nBuzz\n11\nFizz\n13\n14\nFizzBuzz\n"
    }
   ],
   "source": [
    "print(*(n%3//2*'Fizz'+n%5//4*'Buzz'or-~n for n in range(int(input()))),sep='\\n')"
   ]
  },
  {
   "cell_type": "markdown",
   "metadata": {},
   "source": [
    "## enumerate\n",
    "for 文の修飾のようなもの。for 文が回った回数のカウンタとして使う"
   ]
  },
  {
   "cell_type": "code",
   "execution_count": 10,
   "metadata": {
    "tags": [
     "outputPrepend",
     "outputPrepend",
     "outputPrepend",
     "outputPrepend",
     "outputPrepend",
     "outputPrepend",
     "outputPrepend",
     "outputPrepend",
     "outputPrepend",
     "outputPrepend",
     "outputPrepend",
     "outputPrepend",
     "outputPrepend",
     "outputPrepend",
     "outputPrepend",
     "outputPrepend",
     "outputPrepend",
     "outputPrepend",
     "outputPrepend",
     "outputPrepend",
     "outputPrepend",
     "outputPrepend",
     "outputPrepend",
     "outputPrepend",
     "outputPrepend",
     "outputPrepend",
     "outputPrepend",
     "outputPrepend",
     "outputPrepend",
     "outputPrepend",
     "outputPrepend",
     "outputPrepend",
     "outputPrepend",
     "outputPrepend",
     "outputPrepend"
    ]
   },
   "outputs": [
    {
     "output_type": "error",
     "ename": "NameError",
     "evalue": "name 'ls' is not defined",
     "traceback": [
      "\u001b[0;31m---------------------------------------------------------------------------\u001b[0m",
      "\u001b[0;31mNameError\u001b[0m                                 Traceback (most recent call last)",
      "\u001b[0;32m<ipython-input-10-2635c2aabd60>\u001b[0m in \u001b[0;36m<module>\u001b[0;34m\u001b[0m\n\u001b[0;32m----> 1\u001b[0;31m \u001b[0;32mfor\u001b[0m \u001b[0mcnt\u001b[0m\u001b[0;34m,\u001b[0m \u001b[0mitem\u001b[0m \u001b[0;32min\u001b[0m \u001b[0menumerate\u001b[0m\u001b[0;34m(\u001b[0m\u001b[0mls\u001b[0m\u001b[0;34m)\u001b[0m\u001b[0;34m:\u001b[0m\u001b[0;34m\u001b[0m\u001b[0;34m\u001b[0m\u001b[0m\n\u001b[0m\u001b[1;32m      2\u001b[0m     \u001b[0mprint\u001b[0m\u001b[0;34m(\u001b[0m\u001b[0mcnt\u001b[0m\u001b[0;34m,\u001b[0m \u001b[0mitem\u001b[0m\u001b[0;34m)\u001b[0m\u001b[0;34m\u001b[0m\u001b[0;34m\u001b[0m\u001b[0m\n\u001b[1;32m      3\u001b[0m     \u001b[0;31m# if cnt == 99:\u001b[0m\u001b[0;34m\u001b[0m\u001b[0;34m\u001b[0m\u001b[0;34m\u001b[0m\u001b[0m\n\u001b[1;32m      4\u001b[0m     \u001b[0;31m#     break\u001b[0m\u001b[0;34m\u001b[0m\u001b[0;34m\u001b[0m\u001b[0;34m\u001b[0m\u001b[0m\n",
      "\u001b[0;31mNameError\u001b[0m: name 'ls' is not defined"
     ]
    }
   ],
   "source": [
    "for cnt, item in enumerate(gen):\n",
    "    print(cnt, item)\n",
    "    if cnt == 99:\n",
    "        break"
   ]
  },
  {
   "cell_type": "markdown",
   "metadata": {},
   "source": [
    "## pathの話\n",
    "Pythonでパスを扱うときは、pathlibモジュールを使う\n",
    "pathlibについては、[この記事](https://note.nkmk.me/python-pathlib-usage/)が詳しいです\n",
    "\n",
    "例えば、今いる場所を取りたい場合は、"
   ]
  },
  {
   "cell_type": "code",
   "execution_count": 14,
   "metadata": {},
   "outputs": [
    {
     "output_type": "stream",
     "name": "stdout",
     "text": "/tmp/4933834f-059e-4fd1-86e5-1e155a086c01\n"
    }
   ],
   "source": [
    "import pathlib\n",
    "\n",
    "# path = pathlib.Path(__file__).resolve()\n",
    "# print(path)\n",
    "#　1つ上に戻りたいとき\n",
    "# print(path.parent)\n",
    "\n",
    "path = pathlib.Path.cwd()\n",
    "print(path)\n"
   ]
  },
  {
   "cell_type": "markdown",
   "metadata": {},
   "source": [
    "jupyter notebook 上だとよくわからないから、普通にやってみる\n",
    "- Ctrl - n で新しいファイルを作る\n",
    "- 適当な名前のPythonファイルとして保存する(拡張子が.py)\n",
    "- 上のセルをコピーして貼り付け。\n",
    "- 右上の緑の三角を押して、実行する"
   ]
  },
  {
   "cell_type": "markdown",
   "metadata": {},
   "source": [
    "## 演習\n",
    "- 自分のデータが入った、辞書型のデータを作り、\"key: item\" のように出力せよ\n",
    "- 1 から 20 までの偶数列をリスト内包表記で宣言し、出力せよ\n",
    "- 1 から 20 までの偶数列をジェネレータ式で宣言し、出力せよ\n",
    "- 前回の資料より、FizzBuzz をリスト内包表記と３項演算子を用いて1行で書き、要素を1つずつ出力せよ"
   ]
  },
  {
   "cell_type": "code",
   "execution_count": 15,
   "metadata": {},
   "outputs": [
    {
     "output_type": "stream",
     "name": "stdout",
     "text": "{'name': 'ore', 'age': 100000, 'height': 3, 'weight': 1000, 'nationarity': 'Jpy', 'school': 'FUN'}\n"
    }
   ],
   "source": [
    "from copy import deepcopy\n",
    "human = {'name': 'hoge', 'age': -1, 'height': -1, 'weight': -1 , 'nationarity':'', 'school':''}\n",
    "mydata = deepcopy(human)\n",
    "for key in mydata.keys():\n",
    "    mydata[key] = input(f'{key}: ')\n",
    "    if key in ['age', 'height', 'weight']:\n",
    "        mydata[key] = int(mydata[key])\n",
    "\n",
    "print(mydata)"
   ]
  },
  {
   "cell_type": "code",
   "execution_count": 19,
   "metadata": {},
   "outputs": [
    {
     "output_type": "stream",
     "name": "stdout",
     "text": "[2, 4, 6, 8, 10, 12, 14, 16, 18, 20]\n[2, 4, 6, 8, 10, 12, 14, 16, 18, 20]\n"
    }
   ],
   "source": [
    "ls = [i*2 for i in range(1,11)]\n",
    "print(ls)\n",
    "# if 文が律速になるからあんまりよくない\n",
    "ls = [i for i in range(1,21) if i%2 ==0]\n",
    "print(ls)"
   ]
  },
  {
   "cell_type": "code",
   "execution_count": 21,
   "metadata": {},
   "outputs": [
    {
     "output_type": "stream",
     "name": "stdout",
     "text": "<generator object <genexpr> at 0x7ff42c09a5d0>\n<generator object <genexpr> at 0x7ff41c178150>\n[2, 4, 6, 8, 10, 12, 14, 16, 18, 20]\n"
    }
   ],
   "source": [
    "gen = (i*2 for i in range(1,11))\n",
    "print(gen)\n",
    "# if 文が律速になるからあんまりよくない\n",
    "gen = (i for i in range(1,21) if i%2 ==0)\n",
    "print(gen)\n",
    "\n",
    "print(list(gen))"
   ]
  },
  {
   "cell_type": "code",
   "execution_count": 22,
   "metadata": {},
   "outputs": [
    {
     "output_type": "stream",
     "name": "stdout",
     "text": "['1', '2', 'Fizz', '4', 'Buzz', 'Fizz', '7', '8', 'Fizz', 'Buzz', '11', 'Fizz', '13', '14', 'FizzBuzz']\n"
    }
   ],
   "source": [
    "fizz_buzz = ['FizzBuzz' if i%15==0 else 'Fizz' if i%3==0 else 'Buzz' if i%5==0 else str(i) for i in range(1,16)]\n",
    "print(fizz_buzz)"
   ]
  },
  {
   "cell_type": "markdown",
   "metadata": {},
   "source": [
    "(時間が余ったら)\n",
    "\n",
    "## map と lambda式\n",
    "### map とは\n",
    "map(関数, イテラブル) の形で、イテラブルの各要素に関数を適用し、map object を生成する関数である。これは関数による写像であると考えることができる  \n",
    "map object はイテラブルで遅延評価を行う。そのため、即時に結果を見たい場合は、list型にキャストするなどの処理が必要。\n",
    "\n",
    "高階関数\n",
    "\n",
    "### lambda式とは\n",
    "無名関数、匿名関数などと呼ばれる、名前がない関数のことである。  \n",
    "構文としては、  \n",
    "lambda x: 何らかの処理  \n",
    "とかく。これは、上記のmapと合わせて威力を発揮する"
   ]
  },
  {
   "cell_type": "code",
   "execution_count": 24,
   "metadata": {},
   "outputs": [
    {
     "output_type": "stream",
     "name": "stdout",
     "text": "['3', '454', '3', '4', '4']\n"
    }
   ],
   "source": [
    "ls = list(map(int, input().split()))\n",
    "# ls = input().split()\n",
    "# new_ls = []\n",
    "# for item in ls:\n",
    "#     new_ls.append(int(item))\n",
    "print(ls)"
   ]
  },
  {
   "cell_type": "code",
   "execution_count": 36,
   "metadata": {},
   "outputs": [
    {
     "output_type": "stream",
     "name": "stdout",
     "text": "[0, 1, 2, 3, 4, 5, 6, 7, 8, 9]\n['1', '2', '3', '4', '5', '6', '7', '8', '9', '10']\n"
    }
   ],
   "source": [
    "# 数列をインクリメントし、str型に変換する\n",
    "ls = list(range(10))\n",
    "print(ls)\n",
    "print(list(map(lambda x: str(x+1), ls)))"
   ]
  },
  {
   "cell_type": "markdown",
   "metadata": {},
   "source": [
    "実際に使うことはないかもしれないが、ふらっと出てくるから、読めるようにしておこう"
   ]
  },
  {
   "cell_type": "markdown",
   "metadata": {},
   "source": [
    "## 演習\n",
    "シーザー暗号化を行うプログラムを書く。  \n",
    "シーザー暗号とは、ある1文字に対し、a ならば b, f ならば g のように、次の文字にずらすことを言う。  \n",
    "今回はユニコードポインタを1つずらすことをシーザー暗号化という\n",
    "\n",
    "- ord 文字をユニコードポインタ(int)に変換する\n",
    "- chr ユニコードポインタを文字に変換する\n",
    "- .join `文字列.join(文字列のリスト)` の形で、文字列を結合する\n",
    "    hint: 改行は'\\n'\n",
    "\n",
    "たつお　→ ちてか"
   ]
  },
  {
   "cell_type": "code",
   "execution_count": null,
   "metadata": {},
   "outputs": [],
   "source": []
  }
 ],
 "metadata": {
  "language_info": {
   "codemirror_mode": {
    "name": "ipython",
    "version": 3
   },
   "file_extension": ".py",
   "mimetype": "text/x-python",
   "name": "python",
   "nbconvert_exporter": "python",
   "pygments_lexer": "ipython3",
   "version": "3.7.5-final"
  },
  "orig_nbformat": 2,
  "kernelspec": {
   "name": "python37564bitpytorchcondac1588a0183c145a7ad887ad140edf980",
   "display_name": "Python 3.7.5 64-bit ('pytorch': conda)"
  }
 },
 "nbformat": 4,
 "nbformat_minor": 2
}