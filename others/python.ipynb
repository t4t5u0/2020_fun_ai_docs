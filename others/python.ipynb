{
 "cells": [
  {
   "cell_type": "markdown",
   "metadata": {},
   "source": [
    "- Pythonの話\n",
    "- 変数\n",
    "- 演算系\n",
    "- 型\n",
    "- リスト\n",
    "- 制御構文 \n",
    "- 関数\n",
    "- 関数定義\n",
    "- クラス"
   ]
  },
  {
   "cell_type": "markdown",
   "metadata": {},
   "source": [
    "Pythonはプログラミング言語の1つです。以下のような特徴があります\n",
    "- コンパイルが不要\n",
    "- 文法が英語ライクで書きやすい\n",
    "- 変数宣言時に、型を明示しない\n",
    "- 意味の区切りに、中かっこではなくインデントを使う\n",
    "などなど"
   ]
  },
  {
   "cell_type": "markdown",
   "metadata": {},
   "source": [
    "変数\n",
    "\n",
    "変数とは、値に名前をつけて拘束すること。代入と参照ができる\n",
    "Pythonでは変数宣言と代入を同時に行う\n"
   ]
  },
  {
   "cell_type": "code",
   "execution_count": 3,
   "metadata": {},
   "outputs": [
    {
     "output_type": "stream",
     "name": "stdout",
     "text": "3\n"
    }
   ],
   "source": [
    "# 変数宣言と代入\n",
    "x = 3\n",
    "# 変数を参照\n",
    "x"
   ]
  },
  {
   "cell_type": "markdown",
   "metadata": {},
   "source": [
    "演算\n",
    "整数型(int) には以下のような基本的な演算が用意されている。他にもあるが、割愛する"
   ]
  },
  {
   "cell_type": "code",
   "execution_count": 7,
   "metadata": {},
   "outputs": [
    {
     "output_type": "stream",
     "name": "stdout",
     "text": "加算：11\n減算：5\n乗算：24\n冪乗：512\n除算2.6666666666666665\n切り捨て除算：2\n"
    }
   ],
   "source": [
    "x, y = 8, 3\n",
    "print(f'加算：{x+y}')\n",
    "print(f'減算：{x-y}')\n",
    "print(f'乗算：{x*y}')\n",
    "print(f'冪乗：{x**y}')\n",
    "print(f'除算{x/y}')\n",
    "print(f'切り捨て除算：{x//y}')"
   ]
  },
  {
   "cell_type": "markdown",
   "metadata": {},
   "source": [
    "プログラミングをする上で型を意識することは大切だ。特に、Pythonは変数時に型を指定せず、代入するデータの形式を判断して変数の型を決定する。以下にその例を示す\n",
    "\n",
    "\n",
    "|型|説明|宣言例|\n",
    "|:-|:-|:-|\n",
    "|int|整数|x = 3|\n",
    "|float|小数(浮動小数点数)|x = 3.|\n",
    "|str|文字列|x = '3'|\n",
    "|bool|真偽値|x = True|"
   ]
  },
  {
   "cell_type": "code",
   "execution_count": 8,
   "metadata": {},
   "outputs": [
    {
     "output_type": "stream",
     "name": "stdout",
     "text": "int型の加算:3\nstr型の加算:12\n"
    }
   ],
   "source": [
    "a, b = 1, 2\n",
    "print(f'int型の加算:{a+b}')\n",
    "c, d = '1', '2'\n",
    "print(f'str型の加算:{c+d}')"
   ]
  },
  {
   "cell_type": "code",
   "execution_count": 11,
   "metadata": {},
   "outputs": [
    {
     "output_type": "stream",
     "name": "stdout",
     "text": "22\n"
    }
   ],
   "source": [
    "print(f'{b*d}')"
   ]
  },
  {
   "cell_type": "markdown",
   "metadata": {},
   "source": [
    "シーケンシャルな型  \n",
    "順番が定義されているもの  \n",
    "代表的なものに、`list`, `dict` . 意外かもしれないが`str`もそうだ  \n",
    "以下に`list`の例を示す"
   ]
  },
  {
   "cell_type": "code",
   "execution_count": 14,
   "metadata": {},
   "outputs": [
    {
     "output_type": "stream",
     "name": "stdout",
     "text": "[0, 1, 2, 3, 4, 5, 6, 7, 8]\n0\n8\n8\n[2, 3, 4]\n"
    }
   ],
   "source": [
    "# 宣言\n",
    "ls = [0, 1, 2, 3, 4, 5, 6, 7, 8]\n",
    "print(ls)\n",
    "# 要素にアクセスするには、indexを指定して、スライスする\n",
    "print(ls[0])\n",
    "# 末尾にアクセスするときは、2通りの方法がある\n",
    "print(ls[-1]) \n",
    "print(ls[len(ls)-1])\n",
    "# ある範囲の要素を切り取りたいとき\n",
    "print(ls[2:5])"
   ]
  },
  {
   "cell_type": "markdown",
   "metadata": {},
   "source": [
    "上記のスライス操作は、オブジェクトのコピーを作成する。  \n",
    "もとのオブジェクトには変更を加えない。これはたまにハマるから要注意"
   ]
  },
  {
   "cell_type": "markdown",
   "metadata": {},
   "source": [
    "制御構文\n",
    "if for while が用意されている。forは多言語でいうforeachに相当することに注意する"
   ]
  },
  {
   "cell_type": "code",
   "execution_count": 22,
   "metadata": {},
   "outputs": [
    {
     "output_type": "stream",
     "name": "stdout",
     "text": "条件式がTrue\n"
    }
   ],
   "source": [
    "条件式 = True\n",
    "if 条件式:\n",
    "    print('条件式がTrue')\n",
    "else:\n",
    "    print('条件式がFalse')"
   ]
  },
  {
   "cell_type": "code",
   "execution_count": 3,
   "metadata": {},
   "outputs": [],
   "source": [
    "#  条件が複数ある場合はこんな感じ\n",
    "条件式1 = True\n",
    "条件式2 = True\n",
    "if 条件式1 and 条件式2:\n",
    "    pass\n",
    "elif 条件式2:\n",
    "    pass\n",
    "else:\n",
    "    pass"
   ]
  },
  {
   "cell_type": "code",
   "execution_count": 27,
   "metadata": {},
   "outputs": [
    {
     "output_type": "stream",
     "name": "stdout",
     "text": "0\n3\n6\n9\n"
    }
   ],
   "source": [
    "n = 0\n",
    "while n < 10:\n",
    "    print(n)\n",
    "    n+=3"
   ]
  },
  {
   "cell_type": "code",
   "execution_count": 29,
   "metadata": {},
   "outputs": [
    {
     "output_type": "stream",
     "name": "stdout",
     "text": "0123456789\n0123456789"
    }
   ],
   "source": [
    "for i in range(10):\n",
    "    print(i, end='')\n",
    "\n",
    "print()\n",
    "\n",
    "for item in '0123456789':\n",
    "    print(item, end='')"
   ]
  },
  {
   "cell_type": "markdown",
   "metadata": {},
   "source": [
    "- ループを途中で抜けたいときは`break`を使う\n",
    "- ループの途中で処理を終わり、ループの開始地点に戻りたいときは`continue`を使う"
   ]
  },
  {
   "cell_type": "markdown",
   "metadata": {},
   "source": [
    "`print()` を説明なしに使ったが、これは関数である。出力関数と呼ばれ、コンソールに与えられた引数を出力する。  \n",
    "他にも、入力を受け取る`input()` などがある。"
   ]
  },
  {
   "cell_type": "code",
   "execution_count": 21,
   "metadata": {},
   "outputs": [
    {
     "output_type": "stream",
     "name": "stdout",
     "text": "\n"
    }
   ],
   "source": [
    "x = input()\n",
    "print(x)"
   ]
  },
  {
   "cell_type": "markdown",
   "metadata": {},
   "source": [
    "Pythonは標準で便利な関数が用意されている。  \n",
    "適当な単語で調べると、だいたい出てくる  \n",
    "また、標準で存在しない関数も関数を宣言することで、作ることができる"
   ]
  },
  {
   "cell_type": "code",
   "execution_count": 20,
   "metadata": {},
   "outputs": [
    {
     "output_type": "execute_result",
     "data": {
      "text/plain": "246913578"
     },
     "metadata": {},
     "execution_count": 20
    }
   ],
   "source": [
    "def twice(x):\n",
    "    return x*2\n",
    "\n",
    "twice(int(input()))"
   ]
  },
  {
   "cell_type": "markdown",
   "metadata": {},
   "source": [
    "演習1\n",
    "整数 `N` を受け取り、1 から順に `N` まで、整数 `n` を出力する。  \n",
    "ただし、\n",
    " - `n` が3の倍数のときは、Fizz\n",
    " - 'n' が5の倍数のときは、Buzz\n",
    " - 'n' が3の倍数かつ5の倍数のときは`FizzBuzz`\n"
   ]
  },
  {
   "cell_type": "code",
   "execution_count": null,
   "metadata": {},
   "outputs": [],
   "source": [
    "演習2\n",
    "演習1を関数化する。関数名はfizz_buzz 引数はint1つ 返り値はなし"
   ]
  }
 ],
 "metadata": {
  "language_info": {
   "codemirror_mode": {
    "name": "ipython",
    "version": 3
   },
   "file_extension": ".py",
   "mimetype": "text/x-python",
   "name": "python",
   "nbconvert_exporter": "python",
   "pygments_lexer": "ipython3",
   "version": "3.7.5-final"
  },
  "orig_nbformat": 2,
  "kernelspec": {
   "name": "python37564bit735830b27f5e45088d2f842263d59878",
   "display_name": "Python 3.7.5 64-bit"
  }
 },
 "nbformat": 4,
 "nbformat_minor": 2
}