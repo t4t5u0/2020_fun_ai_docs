{
 "cells": [
  {
   "cell_type": "markdown",
   "metadata": {},
   "source": [
    "# FUN AI 第2回 深層学習とPyTorch\n"
   ]
  },
  {
   "cell_type": "markdown",
   "metadata": {},
   "source": [
    "## 深層学習とは\n",
    "\n",
    "第0回でも触れたが、深層学習の定義として、\n",
    "\n",
    "機械学習のうち\n",
    "\n",
    "- 複雑なネットワークを用いる\n",
    "\n",
    "- 人間が特徴量抽出を行わない\n",
    "\n",
    "ものと覚えておけばとりあえずいいだろう。\n"
   ]
  },
  {
   "cell_type": "markdown",
   "metadata": {},
   "source": [
    "## PyTorchとは\n",
    "Pythonによる深層学習向けのフレームワーク。\n",
    "\n",
    "公式より\n",
    ">PyTorch is an optimized tensor library for deep learning using GPUs and CPUs.\n",
    "\n",
    "PytTorchとは、GPU及びCPUを使用した、深層学習のために最適化されたテンソルライブラリである。\n",
    "\n",
    "資料でわからないことがあれば、https://pytorch.org/docs を調べれば大体は解決する"
   ]
  },
  {
   "cell_type": "markdown",
   "metadata": {},
   "source": [
    "## 用語解説\n",
    "***\n",
    "- ### Python\n",
    "\n",
    "    プログラミング言語の1つ。様々な分野のタスクを柔軟にこなせる。かつ、比較的書きやすいことから広く使われている。\n",
    "\n",
    "- ### CPU\n",
    "\n",
    "    Central Processing Unit の略。日本語にすると中央処理装置。PCには必ず搭載されており、キーボードやマウスなどから入力を受け取り、画面などへ出力を行う。コンピュータの制御・演算を行うことからコンピュータの頭脳と例えられることがある。\n",
    "\n",
    "- ### GPU\n",
    "\n",
    "    Graphics Processing Unit の略。元は描画処理特化のパーツだったが、近年GPGPU(General-purpose computing on GPU)という技術が発達し、その厖大な処理能力を、深層学習など他のタスクなどにも転用できるようになった。その結果、深層学習モデルの学習を今までよりも高速に行えるようになった。深層学習が流行した一端を担っている。\n",
    "\n",
    "- ### テンソル\n",
    "\n",
    "    ベクトルや行列の拡張表現。スカラを0階テンソル、ベクトルを1階テンソル。行列を2階テンソルとし、3階、4階…と次元が上がっていく。以下にサンプルコード示し、さらに解説する。\n",
    "\n",
    "- ### ライブラリ\n",
    "\n",
    "    プログラミング言語におけるライブラリとは、汎用性の高いプログラムをひとまとめにしたものをいう。ライブラリ単体では動作しないことが多い。ライブラリ(図書館)から便利なプログラム(本)を引き出して使うイメージ。\n",
    "\n",
    "- ### フレームワーク\n",
    "\n",
    "    プログラミングにおけるフレームワークとは、それ単体でアプリケーションなどを立ち上げることができるもののことを指す。PyTorchは深層学習フレームワークであり、ライブラリである。"
   ]
  },
  {
   "cell_type": "markdown",
   "metadata": {},
   "source": []
  },
  {
   "cell_type": "code",
   "execution_count": 3,
   "metadata": {},
   "outputs": [],
   "source": [
    "import torch"
   ]
  },
  {
   "cell_type": "markdown",
   "metadata": {},
   "source": [
    "$$\n",
    "\\mathbf{a} \\,= (1, 2) \\\\\n",
    "\\mathbf{b} \\,= \\left(\n",
    "    \\begin{array}{c}\n",
    "    1 \\\\\n",
    "    2\n",
    "    \\end{array}\n",
    "    \\right)\n",
    "$$"
   ]
  },
  {
   "cell_type": "code",
   "execution_count": 4,
   "metadata": {
    "tags": []
   },
   "outputs": [
    {
     "output_type": "stream",
     "name": "stdout",
     "text": "tensor([1., 2.])\ntensor([[1.],\n        [2.]])\n"
    }
   ],
   "source": [
    "a = torch.Tensor([1, 2]) #行ベクトル\n",
    "b = torch.Tensor([[1], [2]]) #列ベクトル\n",
    "print(a)\n",
    "print(b)"
   ]
  },
  {
   "cell_type": "markdown",
   "metadata": {},
   "source": [
    "$$\n",
    "\\mathbf{c} = \\left(\n",
    "    \\begin{array}{cc}\n",
    "    2 & 0\\\\\n",
    "    0 & 1\n",
    "    \\end{array}\n",
    "    \\right)\n",
    "$$    "
   ]
  },
  {
   "cell_type": "code",
   "execution_count": 5,
   "metadata": {
    "tags": []
   },
   "outputs": [
    {
     "output_type": "stream",
     "name": "stdout",
     "text": "tensor([[2., 0.],\n        [0., 1.]])\ntorch.Size([2, 2])\n"
    }
   ],
   "source": [
    "c = torch.Tensor([[2, 0], [0, 1]]) # 2x2の行列\n",
    "print(c)\n",
    "print(c.size()) # size() でテンソルの大きさを確認できる"
   ]
  },
  {
   "cell_type": "code",
   "execution_count": 6,
   "metadata": {},
   "outputs": [
    {
     "output_type": "execute_result",
     "data": {
      "text/plain": "tensor([5.])"
     },
     "metadata": {},
     "execution_count": 6
    }
   ],
   "source": [
    "torch.matmul(a,b) # aとbの内積"
   ]
  },
  {
   "cell_type": "markdown",
   "metadata": {},
   "source": [
    "テンソルに対して、基本的な演算を行える\n",
    "\n",
    "まずは、cと同じく2x2の行列を宣言する"
   ]
  },
  {
   "cell_type": "code",
   "execution_count": 7,
   "metadata": {
    "tags": []
   },
   "outputs": [
    {
     "output_type": "stream",
     "name": "stdout",
     "text": "tensor([[1., 2.],\n        [3., 1.]])\n"
    }
   ],
   "source": [
    "d = torch.Tensor([[1, 2], [3, 1]])\n",
    "print(d)"
   ]
  },
  {
   "cell_type": "markdown",
   "metadata": {},
   "source": [
    "テンソルは、和、差、積、スカラ倍、転置　などの計算を行える。詳しくは線形代数学Ⅰの履修内容になっているから、そちらにゆずる。\n",
    "\n",
    "スカラ倍はいわゆるn倍、転置は行列の行と列を入れ替える演算"
   ]
  },
  {
   "cell_type": "code",
   "execution_count": 8,
   "metadata": {
    "tags": []
   },
   "outputs": [
    {
     "output_type": "stream",
     "name": "stdout",
     "text": "c+d:\ntensor([[3., 2.],\n        [3., 2.]])\n\nc-d:\ntensor([[ 1., -2.],\n        [-3.,  0.]])\n\nc*d:\ntensor([[2., 4.],\n        [3., 1.]])\n\nd*c:\ntensor([[2., 2.],\n        [6., 1.]])\n\n3*d:\ntensor([[3., 6.],\n        [9., 3.]])\n\nd^T:\ntensor([[1., 3.],\n        [2., 1.]])\n\n"
    }
   ],
   "source": [
    "print(f'c+d:\\n{c+d}\\n')\n",
    "print(f'c-d:\\n{c-d}\\n')\n",
    "print(f'c*d:\\n{torch.matmul(c, d)}\\n')\n",
    "print(f'd*c:\\n{torch.matmul(d, c)}\\n')\n",
    "print(f'3*d:\\n{3*d}\\n')\n",
    "print(f'd^T:\\n{d.T}\\n')"
   ]
  },
  {
   "cell_type": "code",
   "execution_count": 9,
   "metadata": {
    "tags": []
   },
   "outputs": [
    {
     "output_type": "stream",
     "name": "stdout",
     "text": "tensor([ 0.1480,  0.0732, -0.5443,  0.1685, -2.6807, -0.1410,  1.0156, -0.9225,\n         1.1610,  0.2851,  0.5309,  3.0502, -1.6575, -0.8706,  0.0137,  0.0588,\n        -0.1175,  0.1806,  0.9786,  0.8148, -0.6449, -0.3561,  0.4260, -1.8613,\n         1.4979, -1.4216,  0.4732, -0.7003, -1.0323, -0.7444, -1.0586,  1.0107,\n         1.2049,  0.1647, -0.6105,  0.1196, -0.3770, -1.0901,  1.5098, -1.7290,\n        -0.1519,  0.6617,  1.3732, -2.2841,  0.9291, -0.2603,  0.7460,  0.5014,\n        -0.3092,  0.7129, -0.1863, -0.9438, -0.1964, -0.4245,  1.1192,  0.2058,\n        -0.0567,  0.8524,  0.0787,  0.2663, -1.8375,  0.7442,  1.0664,  0.2522,\n         0.0615, -1.1619, -0.6804, -1.5894,  1.2932, -0.0789, -0.9317, -0.4717,\n        -0.4780, -0.5228,  1.4892,  0.4766, -0.6040,  0.2829,  0.3500,  0.3474,\n         1.2880, -0.8480,  1.6878,  0.2679, -0.4824, -0.7087,  0.3128, -0.4737,\n        -0.1775, -1.3897,  0.3307,  0.6758, -0.4363, -0.7377,  0.4812, -0.5355,\n         0.7276, -1.8352, -0.9770, -0.6225])\ntorch.Size([100])\n"
    }
   ],
   "source": [
    "z = torch.randn([100]) # 正規分布からランダムに取り出す\n",
    "print(z)\n",
    "print(z.size())"
   ]
  },
  {
   "cell_type": "code",
   "execution_count": 14,
   "metadata": {
    "tags": []
   },
   "outputs": [
    {
     "output_type": "stream",
     "name": "stdout",
     "text": "tensor([[[1., 1., 1.],\n         [1., 1., 1.],\n         [1., 1., 1.]],\n\n        [[1., 1., 1.],\n         [1., 1., 1.],\n         [1., 1., 1.]],\n\n        [[1., 1., 1.],\n         [1., 1., 1.],\n         [1., 1., 1.]]])\ntorch.Size([3, 3, 3])\n"
    }
   ],
   "source": [
    "# 3階以上のテンソルも宣言できる\n",
    "a = torch.ones(3,3,3)\n",
    "print(a)\n",
    "print(a.size())"
   ]
  },
  {
   "cell_type": "markdown",
   "metadata": {},
   "source": [
    "演習問題\n",
    "\n",
    "$$\n",
    "\\begin{align}\n",
    "\\mathbf{w} &= (1, 2, 3) \\\\\n",
    "\\mathbf{x} &= (x_1, x_2, x_3) \\\\\n",
    "y &= \\left(\n",
    "    \\begin{array}{ccc}\n",
    "    y_{11} & y_{12} & y_{13} \\\\\n",
    "    y_{21} & y_{22} & y_{23} \\\\\n",
    "    y_{31} & y_{32} & y_{33}\n",
    "    \\end{array}\n",
    "    \\right)\n",
    "\\end{align}\n",
    "$$\n",
    "について、以下を計算せよ\n",
    "\n",
    "(1) $\\mathbf{w} \\cdot \\mathbf{w}^T$ \n",
    "\n",
    "(2) $\\mathbf{w} \\cdot \\mathbf{x}^T$ \n",
    "\n",
    "(3) $\\mathbf{x}^T \\cdot \\mathbf{w}$ \n",
    "\n",
    "(4) $\\mathbf{x} \\cdot y$\n",
    "\n",
    "hint: (4)は行列をベクトルを集めたものだと考えて計算することもできる\n",
    "$$\n",
    "y = \\left(\n",
    "    \\begin{array}{ccc}\n",
    "    y_{11} & y_{12} & y_{13} \\\\\n",
    "    y_{21} & y_{22} & y_{23} \\\\\n",
    "    y_{31} & y_{32} & y_{33}\n",
    "    \\end{array}\n",
    "    \\right) = \\left(\n",
    "    \\begin{array}{ccc}\n",
    "     \\mathbf{y_1}\\\\\n",
    "     \\mathbf{y_2}\\\\\n",
    "     \\mathbf{y_3}\n",
    "    \\end{array}\n",
    "    \\right)\n",
    "    \n",
    "$$"
   ]
  },
  {
   "cell_type": "markdown",
   "metadata": {},
   "source": [
    "## 附録 Pythonの基本的な文法\n",
    "Pythonは学部1年で触るProcessingとは異なる点が多い。最も大きな違いは、プログラミング上の意味の区切りが中括弧ではなく、空白。つまりはインデントで行われることだ。以下に基本的な文法を記すが、更に詳しいことを学びたい場合は、自分で調べるか、未来大学の競プロサークル FUNCoder に顔を出すといいだろう。 今回は、ノートブック形式で用意されているわけだから、気軽に値をいじって学びを深めてほしい。"
   ]
  },
  {
   "cell_type": "markdown",
   "metadata": {},
   "source": [
    "### 代入\n",
    "代入とは、保存しておきたいものに名前をつけておくことである。  \n",
    "何でも入れられる箱に値を入れ、それに名前をつけると表現されることも多い。\n",
    "\n",
    "Pythonでは、変数名 = 変数 の形で代入が可能である。\n",
    "\n",
    "以下に x に 3 を代入する例を挙げる。"
   ]
  },
  {
   "cell_type": "code",
   "execution_count": null,
   "metadata": {},
   "outputs": [],
   "source": [
    "x = 3"
   ]
  },
  {
   "cell_type": "markdown",
   "metadata": {},
   "source": [
    "### 入出力\n",
    "\n",
    "代入しただけでは、中身を確認することができない。そこで、入力と出力の例を示す。\n",
    "\n",
    "最も基本的な入力と出力の方法は以下の通り。\n",
    "\n",
    "入力には`input`を、出力には`print`を用いる。他にも色々あるが、とりあえずはこれらを覚えて良くと良いだろう。\n",
    "\n",
    "以下を実行したら、入力用のポップアップがでるから、それに従って文字を入力してほしい。"
   ]
  },
  {
   "cell_type": "code",
   "execution_count": null,
   "metadata": {},
   "outputs": [],
   "source": [
    "name = input()\n",
    "print(name)"
   ]
  },
  {
   "cell_type": "markdown",
   "metadata": {},
   "source": [
    "### 演算\n",
    "Pythonでの基本的な演算は以下の通り。この他にビット演算子なども存在する。"
   ]
  },
  {
   "cell_type": "code",
   "execution_count": null,
   "metadata": {},
   "outputs": [],
   "source": [
    "x, y = 2, 3\n",
    "print(f'足し算:{x+y}')\n",
    "print(f'引き算:{x-y}')\n",
    "print(f'掛け算:{x*y}')\n",
    "print(f'割り算:{x/y}')\n",
    "print(f'切捨て除算:{x//y}')\n",
    "print(f'あまり:{x%y}')\n",
    "print(f'べき乗:{x**y}')\n",
    "print(f'商とあまりのペア:{divmod(x, y)}')\n",
    "print(f'等価演算子:{x==y}')\n",
    "print(f'非等価演算子:{x!=y}')"
   ]
  },
  {
   "cell_type": "markdown",
   "metadata": {},
   "source": [
    "### 関数\n",
    "プログラミングにおける関数とは、数学での関数をより一般化した概念である。\n",
    "\n",
    "ここでは、0個以上の引数を受け取り、何らかの動作をするものを関数。と定義する。\n",
    "\n",
    "入出力で使った　`input` と `print` も関数の1つである。"
   ]
  },
  {
   "cell_type": "code",
   "execution_count": null,
   "metadata": {},
   "outputs": [],
   "source": [
    "name = input('what is your name')\n",
    "print(f'my name is {name}')"
   ]
  },
  {
   "cell_type": "code",
   "execution_count": null,
   "metadata": {},
   "outputs": [],
   "source": []
  },
  {
   "cell_type": "markdown",
   "metadata": {},
   "source": [
    "### データ型\n",
    "プログラミングには、データ型(単に型とも)がある。型とは、あるデータの性質を表したものである。下の表はPythonの型の例である。型は他にもたくさん存在する。\n",
    "\n",
    "|型|説明|宣言例|\n",
    "|:-|:-|:-|\n",
    "|int|整数|x = 3|\n",
    "|float|小数(浮動小数点数)|x = 3.|\n",
    "|str|文字列|x = '3'|\n",
    "|bool|真偽値|x = True|\n",
    "\n",
    "型の確認には`type`関数を使う。以下は str型のa というデータと解釈できる"
   ]
  },
  {
   "cell_type": "code",
   "execution_count": null,
   "metadata": {},
   "outputs": [],
   "source": [
    "print(type('a'))"
   ]
  },
  {
   "cell_type": "markdown",
   "metadata": {},
   "source": [
    "### 型変換(キャスト)\n",
    "`input`関数を用いて入力を受け取った場合、その返り値はstr型になる。しかし、数値を扱いたいときにstrのままだと不都合である。\n",
    "\n",
    "そのために型変換が用意されている。型変換は`型名(引数)`の形で一時的に型を変更できる。以下にその例を示す。"
   ]
  },
  {
   "cell_type": "code",
   "execution_count": null,
   "metadata": {},
   "outputs": [],
   "source": [
    "x = '123' # 数値が入力されたことを想定されている\n",
    "print(type(x))\n",
    "\n",
    "int(x)\n",
    "print(type(x))\n",
    "\n",
    "x = int(x)\n",
    "print(type(x))"
   ]
  },
  {
   "cell_type": "markdown",
   "metadata": {},
   "source": [
    "### list\n",
    "複数のデータをひとまとめにして扱うデータ型の1つに`list`型がある。\n",
    "\n",
    "`[]`の中にコンマ区切りでデータを列挙する。これを外延表記という。他に内包表記とういものもあるが、これは集合論で内包表記をやったあとでもいいだろう。"
   ]
  },
  {
   "cell_type": "code",
   "execution_count": null,
   "metadata": {},
   "outputs": [],
   "source": [
    "a = [1, 2 ,3, 4, 5]\n",
    "print(a)\n",
    "print(type(a))"
   ]
  },
  {
   "cell_type": "markdown",
   "metadata": {},
   "source": [
    "list は float や str を要素に持つこともできる。"
   ]
  },
  {
   "cell_type": "code",
   "execution_count": null,
   "metadata": {},
   "outputs": [],
   "source": [
    "b = ['a', 'i', 'u', 'e', 'o']\n",
    "c = [1.1, 1.2, 1.3, 1.4, 1.5]"
   ]
  },
  {
   "cell_type": "markdown",
   "metadata": {},
   "source": [
    "また、スライスといって、リストの要素にアクセスし取り出すこともできる\n",
    "\n",
    "`list_object[start:end:step]`\n",
    "\n",
    "と書き、startは開始位置、endは終了位置、stepは増分を表す。  \n",
    "それぞれ省略可能で、省略した場合は初期値が使われる。初期値はそれぞれ`start=0`、`end=len(list_object)-1`(終端)、`step=1`\n",
    "開始位置のみを指定した場合は、そのindexの値1つだけが取り出される\n",
    "\n",
    "indexに0より小さい整数を指定することもできる。その場合は末尾を-1, その手前を-2, -3 が指定される"
   ]
  },
  {
   "cell_type": "code",
   "execution_count": null,
   "metadata": {},
   "outputs": [],
   "source": [
    "print(a)\n",
    "print(a[1])\n",
    "print(a[len(a)-1])\n",
    "print(a[-1])\n",
    "print(b[::2])\n",
    "print(b[1::2])"
   ]
  },
  {
   "cell_type": "markdown",
   "metadata": {},
   "source": [
    "リストの末尾に要素(`item`)を追加するには`list_object.append(item)` を使う。"
   ]
  },
  {
   "cell_type": "code",
   "execution_count": null,
   "metadata": {},
   "outputs": [],
   "source": [
    "print(a)\n",
    "a.append(6)\n",
    "print(a)"
   ]
  },
  {
   "cell_type": "markdown",
   "metadata": {},
   "source": [
    "### if文\n",
    "条件分岐をするにはif文を使う。\n",
    "Pythonのif文は以下の通り。\n",
    "\n",
    "もっとも単純なものは\n",
    "```Python \n",
    "if 条件:\n",
    "    処理\n",
    "```\n",
    "\n",
    "意味の区切りの箇所ではインデントを用いる。半角スペース4つもしくはTabを挿入する。どちらか好きな方で良いが、統一すること\n",
    "\n",
    "if の条件を満たした時、満たさなかったときはif-elseを使う\n",
    "```Python \n",
    "if 条件:\n",
    "    処理\n",
    "else:\n",
    "    処理 # 条件を満たさなかったときの処理\n",
    "```\n",
    "\n",
    "条件を追加し、さらに複雑なこともできる。else if をつなげて elif を使う。  \n",
    "\n",
    "\n",
    "```Python \n",
    "if 条件1:\n",
    "    処理\n",
    "elif 条件2:\n",
    "    処理\n",
    "else:\n",
    "    処理\n",
    "```\n",
    "\n",
    "if文の中にif文を入れ子にすることもできる。\n",
    "\n",
    "```Python\n",
    "if 条件1:\n",
    "    if 条件2:\n",
    "        処理\n",
    "    処理\n",
    "else:\n",
    "    処理\n",
    "```"
   ]
  },
  {
   "cell_type": "code",
   "execution_count": null,
   "metadata": {},
   "outputs": [],
   "source": [
    "x = 3\n",
    "if x == 3:\n",
    "    print('x is 3')\n",
    "else:\n",
    "    print(\"x isn't 3\")"
   ]
  },
  {
   "cell_type": "markdown",
   "metadata": {},
   "source": [
    "### for文\n",
    "繰り返し処理(ループ)を行うためにはfor文を使う。  \n",
    "Pythonのfor文は他の言語でいうforeachとほぼ一緒である。\n",
    "\n",
    "文法は  \n",
    "```Python \n",
    "for アイテム in イテラブル:\n",
    "    処理\n",
    "```\n",
    "となる。詳しい意味はとりあえず置いておいて、処理の流れを解説する。"
   ]
  },
  {
   "cell_type": "code",
   "execution_count": null,
   "metadata": {},
   "outputs": [],
   "source": [
    "for i in [2, 3, 5]:\n",
    "    print(i)"
   ]
  },
  {
   "cell_type": "markdown",
   "metadata": {},
   "source": [
    "listの先頭から1つずつ取り出して、それをiに代入しているのがわかるだろう。iに代入することができなくなったらループが終了する。\n",
    "\n",
    "rangeという連番生成用の関数を用いて以下のように書くことも多い"
   ]
  },
  {
   "cell_type": "code",
   "execution_count": null,
   "metadata": {},
   "outputs": [],
   "source": [
    "for i in range(10):\n",
    "    print(i)"
   ]
  },
  {
   "cell_type": "markdown",
   "metadata": {},
   "source": [
    "演習\n",
    "以下の条件を満たすプログラムをかけ。\n",
    "\n",
    "整数nが与えられる。  \n",
    "1からnまでの整数を表示せよ。ただし、\n",
    "- nが3の倍数ならば`Fizz`と出力する\n",
    "- nが5の倍数ならば`Buzz`と出力する\n",
    "- nが3と5の公倍数ならば`FizzBuzz`と出力する"
   ]
  },
  {
   "cell_type": "code",
   "execution_count": null,
   "metadata": {},
   "outputs": [],
   "source": [
    "# このセルに書く"
   ]
  },
  {
   "cell_type": "markdown",
   "metadata": {},
   "source": [
    "### 関数定義\n",
    "自分で関数を定義することもできる。def は define の略。処理は複数行書くことができる。\n",
    "```Python\n",
    "def 関数名(引数):\n",
    "    処理\n",
    "    return 返り値\n",
    "```\n",
    "\n",
    "簡単な関数の例として、ある数nを受け取り、それを2倍にする関数を考える"
   ]
  },
  {
   "cell_type": "code",
   "execution_count": null,
   "metadata": {},
   "outputs": [],
   "source": [
    "def twice(n):\n",
    "    result = 2*n\n",
    "    return result\n",
    "\n",
    "'''\n",
    "これも同じ\n",
    "def twice(n):\n",
    "    return 2*n\n",
    "\n",
    "def twice(n):\n",
    "    return n+n\n",
    "'''"
   ]
  },
  {
   "cell_type": "code",
   "execution_count": null,
   "metadata": {},
   "outputs": [],
   "source": [
    "print(twice(int(input())))"
   ]
  },
  {
   "cell_type": "markdown",
   "metadata": {},
   "source": [
    "演習 ある数`n`を受け取り、1から`n`までの数をリストに格納する関数`FizzBuzz`を実装せよ。ただし、\n",
    "- nが3の倍数ならば`Fizz`を格納する\n",
    "- nが5の倍数ならば`Buzz`を格納する\n",
    "- nが3と5の公倍数ならば`FizzBuzz`を格納する\n",
    "- すべての要素はstr型で格納すること"
   ]
  },
  {
   "cell_type": "code",
   "execution_count": null,
   "metadata": {},
   "outputs": [],
   "source": [
    "\n",
    "\n",
    "\n",
    "\n",
    "'''\n",
    "解答例\n",
    "def FizzBuzz(n):\n",
    "    return [n%3//2*'Fizz' + n%5//4*'Buzz' or str(-~n) for n in range(n)]\n",
    "'''"
   ]
  },
  {
   "cell_type": "code",
   "execution_count": null,
   "metadata": {},
   "outputs": [],
   "source": [
    "# テスト\n",
    "FizzBuzz(20)"
   ]
  },
  {
   "cell_type": "markdown",
   "metadata": {},
   "source": [
    "### クラス定義\n",
    "\n",
    "クラスとはデータや処理の定義をまとめた設計図のようなものだ。\n",
    "\n",
    "あるクラスに引数を渡し、実際に使えるようにすることをインスタンスを生成する(インスタンス化とも)という。\n",
    "\n",
    "インスタンスは、様々な処理を行うためのメソッドを持っている。メソッドとはクラス内で実装された関数のことを指す。\n",
    "\n",
    "アトリビュートとはインスタンスが持つことができる変数のようなもののことを指す。\n",
    "\n",
    "\n",
    "最も単純なクラス定義の仕方は以下の通り。\n",
    "```Python\n",
    "class ClassName:\n",
    "    def __init__(self, arg):   # selfは自動的に読まれるから、このクラスはインスタンス化するときに見かけ上引数が1つ必要\n",
    "        self.value = arg       # インスタンスにアトリビュートを追加\n",
    "        \n",
    "    def fnc(self):\n",
    "        print(self.value)\n",
    " ```\n",
    "\n",
    "`self` と `__init__()` について説明するが、難しいからよくわからなかったら、後から理解しても良い\n",
    "\n",
    "### `__init__()` とは  \n",
    "コンストラクタと呼ばれる初期化のためのメソッド。このメソッドはインスタンス生成時に自動的に呼び出される。  \n",
    "他のメソッドでも用いるような共通しているアトリビュートはここで宣言する。  \n",
    "そうしない場合、各メソッドで引数を代入する必要が出てくる。同じ値を使いまわすことを保証できないなどの不都合がある。\n",
    "\n",
    "\n",
    "### `self` とは  \n",
    "この`self`はインスタンス自身を指しており、`self`を代入することによって、インスタンスそのものをいじれるようになる。  \n",
    "メソッドの第一引数に`self`を指定すると、自動的にインスタンスが代入されて呼び出される。"
   ]
  },
  {
   "cell_type": "markdown",
   "metadata": {},
   "source": [
    "今回は、円の性質を持った`Circle`というクラスを実装する\n",
    "\n",
    "実装するメソッドは\n",
    "- radius 半径\n",
    "- diameter 直径\n",
    "- circumference 円周\n",
    "- area 面積\n",
    "の4つ"
   ]
  },
  {
   "cell_type": "code",
   "execution_count": null,
   "metadata": {},
   "outputs": [],
   "source": [
    "# 円周率を使うためのモジュールをインポート\n",
    "from math import pi\n",
    "\n",
    "# クラス定義を行う\n",
    "# arg は argument (引数)\n",
    "# r は radius (半径) の略\n",
    "# 変数名と関数は違うものにすること\n",
    "# 関数を呼ぼうとしているのに変数を呼んでいるなどの事故が発生する\n",
    "\n",
    "class Circle:\n",
    "    def __init__(self,arg):\n",
    "        self.r = arg\n",
    "\n",
    "    def radius(self):\n",
    "        return self.r\n",
    "\n",
    "    def diameter(self):\n",
    "        return self.r*2\n",
    "\n",
    "    def circumference(self):\n",
    "        return self.r*2*pi\n",
    "\n",
    "    def area(self):\n",
    "        return self.r**2*pi\n"
   ]
  },
  {
   "cell_type": "code",
   "execution_count": null,
   "metadata": {},
   "outputs": [],
   "source": [
    "# xというCircleインスタンスを生成する\n",
    "x = Circle(1)\n",
    "# インスタンス化されたxはCircleが持つ様々なメソッド(関数)を呼ぶことができる\n",
    "\n",
    "print(x.radius())\n",
    "print(x.diameter())\n",
    "print(x.circumference())\n",
    "print(x.area())\n",
    "print(type(x))"
   ]
  },
  {
   "cell_type": "markdown",
   "metadata": {},
   "source": [
    "球の性質を持った`Ball`クラスを実装せよ\n",
    "\n",
    "ただし、インスタンス化する際に半径を引数に取ること\n",
    "\n",
    "実装するメソッドは\n",
    "- 半径\n",
    "- 直径\n",
    "- 表面積\n",
    "- 体積\n",
    "- 余力がアレばオリジナルのものを追加する\n",
    "適切なメソッド名をつけること"
   ]
  },
  {
   "cell_type": "code",
   "execution_count": null,
   "metadata": {},
   "outputs": [],
   "source": []
  },
  {
   "cell_type": "code",
   "execution_count": null,
   "metadata": {},
   "outputs": [],
   "source": []
  },
  {
   "cell_type": "markdown",
   "metadata": {},
   "source": [
    "これで第2回を終了とする"
   ]
  }
 ],
 "metadata": {
  "kernelspec": {
   "display_name": "Python 3.7.5 64-bit ('pytorch': conda)",
   "language": "python",
   "name": "python37564bitpytorchcondac1588a0183c145a7ad887ad140edf980"
  },
  "language_info": {
   "codemirror_mode": {
    "name": "ipython",
    "version": 3
   },
   "file_extension": ".py",
   "mimetype": "text/x-python",
   "name": "python",
   "nbconvert_exporter": "python",
   "pygments_lexer": "ipython3",
   "version": "3.7.5-final"
  }
 },
 "nbformat": 4,
 "nbformat_minor": 2
}