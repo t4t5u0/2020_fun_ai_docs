{
 "cells": [
  {
   "cell_type": "markdown",
   "metadata": {},
   "source": [
    "# CNN\n",
    "***\n",
    "\n",
    "## 概要  \n",
    "人間の視覚の仕組みを取り入れ成功したモデルである。現在も広く使われており、その応用範囲はとても広い。画像認識、クラス分類、など画像が絡むタスクはだいたいCNNを用いて解決される. "
   ]
  },
  {
   "cell_type": "markdown",
   "metadata": {},
   "source": [
    "## 用語説明  \n",
    "***\n",
    "### CNN\n",
    "\n",
    "畳込み層を用いるニューラルネットワークのこと。\n",
    "\n",
    "### 画像\n",
    "\n",
    "デジタル画像には、カラー画像とモノクロ(グレースケール)画像の二種類がある。カラー画像はRGBでピクセルを制御している。モノクロ画像は0~255の値で離散化して持つ\n",
    "\n",
    "### 畳込み演算\n",
    "画像など(一般にtensor)に対して、各要素ごとにフィルタを積和演算する演算のこと。以下の用語説明や、理論解説でも取り扱う。\n",
    "\n",
    "![画像]()\n",
    "\n",
    "### 畳込み層\n",
    "畳込み演算を行う層を畳込み層と呼ぶ。英語ではConvolution Layer\n",
    "\n",
    "### 局所受容野、カーネル、フィルター\n",
    "\n",
    "説明する人の出身領域で言葉が変わってくるが本質的には同じものを指す。神経科学系なら局所受容野、画像系ならフィルター、その他はカーネルと呼んでいる人が多い気がする。今後、この資料ではフィルタでと呼ぶ。\n",
    "\n",
    "### パディング\n",
    "\n",
    "畳込みを行うと、tensorの大きさが小さくなるから、大きさを調整するために0などで画像の周囲を埋める\n",
    "\n",
    "### ストライド\n",
    "\n",
    "フィルタをどれだけ動かすか。通常は1\n",
    "\n",
    "### 重み共有\n",
    "\n",
    "### プーリング\n",
    "\n",
    "図のような演算をプーリング(max pooling)という。\n",
    "\n",
    "### プーリング層\n",
    "\n",
    "プーリングを行う層をプーリング層という。この層を挟むことによって、フィルターの感度が鈍くなることになる。その結果、位置ずれに対する頑健性があがると言われている。一方で、特徴が失われるという否定的な意見もある。"
   ]
  },
  {
   "cell_type": "markdown",
   "metadata": {},
   "source": [
    "## 理論解説\n",
    "***\n",
    "畳み込み演算とは、w h の大きさの画像に対してある画素$u_{ij}$に対して以下の操作を行うことを言う。\n",
    "\n",
    "\n",
    "$$\n",
    "u_{ij}=\\sum_{p=0}^{H-1}\\sum_{q=0}^{W-1}\\,\\it{x}_{i+p\\, j+q}\\,h_{pq}\\hspace{2em}\\tag{1}\n",
    "$$"
   ]
  },
  {
   "cell_type": "markdown",
   "metadata": {},
   "source": [
    "## 実装解説\n",
    "***\n"
   ]
  },
  {
   "cell_type": "code",
   "execution_count": 1,
   "metadata": {
    "tags": []
   },
   "outputs": [
    {
     "output_type": "stream",
     "name": "stdout",
     "text": "mkdir: ディレクトリ `../param' を作成できません: ファイルが存在します\n"
    }
   ],
   "source": [
    "!mkdir ../param"
   ]
  },
  {
   "cell_type": "code",
   "execution_count": 1,
   "metadata": {},
   "outputs": [],
   "source": [
    "# CNNの実装。MNISTの分類をする\n",
    "# 必要ライブラリのインポート\n",
    "import numpy as np\n",
    "import pandas as pd\n",
    "import torch\n",
    "import torch.nn as nn\n",
    "import torch.optim as optim\n",
    "from sklearn.model_selection import train_test_split\n",
    "from torch.utils.data import DataLoader, Dataset, TensorDataset\n",
    "from tqdm import tqdm\n",
    "import matplotlib.pyplot as plt"
   ]
  },
  {
   "cell_type": "code",
   "execution_count": 2,
   "metadata": {},
   "outputs": [
    {
     "output_type": "display_data",
     "data": {
      "text/plain": "<Figure size 432x288 with 1 Axes>",
      "image/svg+xml": "<?xml version=\"1.0\" encoding=\"utf-8\" standalone=\"no\"?>\n<!DOCTYPE svg PUBLIC \"-//W3C//DTD SVG 1.1//EN\"\n  \"http://www.w3.org/Graphics/SVG/1.1/DTD/svg11.dtd\">\n<!-- Created with matplotlib (https://matplotlib.org/) -->\n<svg height=\"246.958125pt\" version=\"1.1\" viewBox=\"0 0 231.84 246.958125\" width=\"231.84pt\" xmlns=\"http://www.w3.org/2000/svg\" xmlns:xlink=\"http://www.w3.org/1999/xlink\">\n <defs>\n  <style type=\"text/css\">\n*{stroke-linecap:butt;stroke-linejoin:round;}\n  </style>\n </defs>\n <g id=\"figure_1\">\n  <g id=\"patch_1\">\n   <path d=\"M 0 246.958125 \nL 231.84 246.958125 \nL 231.84 0 \nL 0 0 \nz\n\" style=\"fill:none;\"/>\n  </g>\n  <g id=\"axes_1\">\n   <g clip-path=\"url(#pf92cf58bc4)\">\n    <image height=\"218\" id=\"imagec0a2c332d3\" transform=\"scale(1 -1)translate(0 -218)\" width=\"218\" x=\"7.2\" xlink:href=\"data:image/png;base64,\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\" y=\"-21.758125\"/>\n   </g>\n   <g id=\"text_1\">\n    <!-- 8.0 -->\n    <defs>\n     <path d=\"M 31.78125 34.625 \nQ 24.75 34.625 20.71875 30.859375 \nQ 16.703125 27.09375 16.703125 20.515625 \nQ 16.703125 13.921875 20.71875 10.15625 \nQ 24.75 6.390625 31.78125 6.390625 \nQ 38.8125 6.390625 42.859375 10.171875 \nQ 46.921875 13.96875 46.921875 20.515625 \nQ 46.921875 27.09375 42.890625 30.859375 \nQ 38.875 34.625 31.78125 34.625 \nz\nM 21.921875 38.8125 \nQ 15.578125 40.375 12.03125 44.71875 \nQ 8.5 49.078125 8.5 55.328125 \nQ 8.5 64.0625 14.71875 69.140625 \nQ 20.953125 74.21875 31.78125 74.21875 \nQ 42.671875 74.21875 48.875 69.140625 \nQ 55.078125 64.0625 55.078125 55.328125 \nQ 55.078125 49.078125 51.53125 44.71875 \nQ 48 40.375 41.703125 38.8125 \nQ 48.828125 37.15625 52.796875 32.3125 \nQ 56.78125 27.484375 56.78125 20.515625 \nQ 56.78125 9.90625 50.3125 4.234375 \nQ 43.84375 -1.421875 31.78125 -1.421875 \nQ 19.734375 -1.421875 13.25 4.234375 \nQ 6.78125 9.90625 6.78125 20.515625 \nQ 6.78125 27.484375 10.78125 32.3125 \nQ 14.796875 37.15625 21.921875 38.8125 \nz\nM 18.3125 54.390625 \nQ 18.3125 48.734375 21.84375 45.5625 \nQ 25.390625 42.390625 31.78125 42.390625 \nQ 38.140625 42.390625 41.71875 45.5625 \nQ 45.3125 48.734375 45.3125 54.390625 \nQ 45.3125 60.0625 41.71875 63.234375 \nQ 38.140625 66.40625 31.78125 66.40625 \nQ 25.390625 66.40625 21.84375 63.234375 \nQ 18.3125 60.0625 18.3125 54.390625 \nz\n\" id=\"DejaVuSans-56\"/>\n     <path d=\"M 10.6875 12.40625 \nL 21 12.40625 \nL 21 0 \nL 10.6875 0 \nz\n\" id=\"DejaVuSans-46\"/>\n     <path d=\"M 31.78125 66.40625 \nQ 24.171875 66.40625 20.328125 58.90625 \nQ 16.5 51.421875 16.5 36.375 \nQ 16.5 21.390625 20.328125 13.890625 \nQ 24.171875 6.390625 31.78125 6.390625 \nQ 39.453125 6.390625 43.28125 13.890625 \nQ 47.125 21.390625 47.125 36.375 \nQ 47.125 51.421875 43.28125 58.90625 \nQ 39.453125 66.40625 31.78125 66.40625 \nz\nM 31.78125 74.21875 \nQ 44.046875 74.21875 50.515625 64.515625 \nQ 56.984375 54.828125 56.984375 36.375 \nQ 56.984375 17.96875 50.515625 8.265625 \nQ 44.046875 -1.421875 31.78125 -1.421875 \nQ 19.53125 -1.421875 13.0625 8.265625 \nQ 6.59375 17.96875 6.59375 36.375 \nQ 6.59375 54.828125 13.0625 64.515625 \nQ 19.53125 74.21875 31.78125 74.21875 \nz\n\" id=\"DejaVuSans-48\"/>\n    </defs>\n    <g transform=\"translate(106.378125 16.318125)scale(0.12 -0.12)\">\n     <use xlink:href=\"#DejaVuSans-56\"/>\n     <use x=\"63.623047\" xlink:href=\"#DejaVuSans-46\"/>\n     <use x=\"95.410156\" xlink:href=\"#DejaVuSans-48\"/>\n    </g>\n   </g>\n  </g>\n </g>\n <defs>\n  <clipPath id=\"pf92cf58bc4\">\n   <rect height=\"217.44\" width=\"217.44\" x=\"7.2\" y=\"22.318125\"/>\n  </clipPath>\n </defs>\n</svg>\n",
      "image/png": "[encoded data removed]"
     },
     "metadata": {
      "needs_background": "light"
     }
    }
   ],
   "source": [
    "train = pd.read_csv(r\"../input/digit-recognizer/train.csv\", dtype=np.float32)\n",
    "\n",
    "# split data into features(pixels) and labels(numbers from 0 to 9)\n",
    "# ラベル(0-9)\n",
    "targets_numpy = train.label.values\n",
    "# 画像データセット (784x1に伸ばされている)\n",
    "features_numpy = train.loc[:, train.columns != \"label\"].values/255\n",
    "\n",
    "# 訓練用とテスト用にデータセットを分割\n",
    "features_train, features_test, targets_train, targets_test = train_test_split(\n",
    "    features_numpy, targets_numpy, test_size=0.2, random_state=42)\n",
    "\n",
    "# create feature and targets tensor for train set. As you remember we need variable to accumulate gradients. Therefore first we create tensor, then we will create variable\n",
    "# NumPy配列からTensorに変換\n",
    "featuresTrain = torch.from_numpy(features_train)\n",
    "featuresTrain = featuresTrain.reshape([-1 ,1 ,28, 28])\n",
    "targetsTrain = torch.from_numpy(targets_train).type(torch.LongTensor) # data type is long\n",
    "\n",
    "# create feature and targets tensor for test set.\n",
    "# NumPy配列からTensorに変換\n",
    "featuresTest = torch.from_numpy(features_test)\n",
    "featuresTest = featuresTest.reshape([-1, 1, 28, 28])\n",
    "targetsTest = torch.from_numpy(targets_test).type(torch.LongTensor) # data type is long\n",
    "\n",
    "# batch_size, epoch and iteration\n",
    "# バッチサイズとエポック数を決定\n",
    "batch_size = 100\n",
    "n_iters = 10000\n",
    "num_epochs = n_iters / (len(features_train) / batch_size)\n",
    "num_epochs = int(num_epochs)\n",
    "\n",
    "# Pytorch train and test sets\n",
    "# 画像とラベルの組をデータセット に変換\n",
    "train = TensorDataset(featuresTrain,targetsTrain)\n",
    "test = TensorDataset(featuresTest,targetsTest)\n",
    "\n",
    "# data loader\n",
    "# ミニバッチ用のデータローダーを作成\n",
    "train_loader = DataLoader(train, batch_size = batch_size, shuffle = True)\n",
    "test_loader = DataLoader(test, batch_size = batch_size, shuffle = False)\n",
    "\n",
    "# visualize one of the images in data set\n",
    "# 画像を可視化\n",
    "plt.imshow(features_numpy[10].reshape(28, 28))\n",
    "plt.axis(\"off\")\n",
    "plt.title(str(targets_numpy[10]))\n",
    "plt.savefig('graph.png')\n",
    "plt.show()"
   ]
  },
  {
   "cell_type": "code",
   "execution_count": 5,
   "metadata": {},
   "outputs": [],
   "source": [
    "class FlattenLayer(nn.Module):\n",
    "    def forward(self, x):\n",
    "        sizes = x.size()\n",
    "        return x.view(sizes[0], -1)\n",
    "\n",
    "\n",
    "class CNN(nn.Module):\n",
    "    def __init__(self):\n",
    "        super(CNN, self).__init__()\n",
    "        self.cnn = nn.Sequential(\n",
    "            nn.Conv2d(1, 32, 5),\n",
    "            nn.MaxPool2d(2),\n",
    "            nn.ReLU(),\n",
    "            nn.BatchNorm2d(32),\n",
    "            nn.Conv2d(32, 64, 5),\n",
    "            nn.MaxPool2d(2),\n",
    "            nn.ReLU(),\n",
    "            nn.BatchNorm2d(64)\n",
    "        )\n",
    "\n",
    "        self.mlp = nn.Sequential(\n",
    "            nn.Linear(64*4*4, 120),\n",
    "            nn.ReLU(),\n",
    "            nn.Linear(120, 10),\n",
    "            nn.Softmax()\n",
    "        )\n",
    "        \n",
    "        self.net = nn.Sequential(\n",
    "            self.cnn,\n",
    "            FlattenLayer(),\n",
    "            self.mlp\n",
    "        )\n",
    "    def forward(self, x):\n",
    "        return self.net(x)\n"
   ]
  },
  {
   "cell_type": "code",
   "execution_count": 6,
   "metadata": {},
   "outputs": [],
   "source": [
    "# 評価用の関数\n",
    "def eval_net(net, data_loader, device = 'cpu'):\n",
    "    # DropputやBatchNorm を無効化する(評価時には必要ないから))\n",
    "    net.eval()\n",
    "\n",
    "    # 表示用の配列\n",
    "    ys = []\n",
    "    ypreds = []\n",
    "    for x, y in data_loader:\n",
    "        x = x.to(device)\n",
    "        y = y.to(device)\n",
    "        with torch.no_grad():\n",
    "            _, y_pred = torch.max(net(x), 1)\n",
    "        ys.append(y)\n",
    "        ypreds.append(y_pred)\n",
    "        \n",
    "    ys = torch.cat(ys)\n",
    "    ypreds = torch.cat(ypreds)\n",
    "    \n",
    "    acc = (ys == ypreds).float().sum() / len (ys)\n",
    "    return acc.item()\n",
    "\n",
    "\n",
    "# 訓練用の関数\n",
    "def train_net(net, train_loader, test_loader,\n",
    "             #optimizer = optim.Adam,\n",
    "             loss_fn = nn.CrossEntropyLoss(),\n",
    "             n_iter = 10, device = 'cpu'):\n",
    "    train_losses = []\n",
    "    train_acc = []\n",
    "    val_acc = []\n",
    "    optimizer = optim.Adam(net.parameters())\n",
    "    for epoch in range(n_iter):\n",
    "        running_loss = 0.\n",
    "        net.train()\n",
    "        n = 0\n",
    "        n_acc = 0\n",
    "        \n",
    "        for i, (xx, yy) in tqdm(enumerate(train_loader), total=len(train_loader)):\n",
    "            xx = xx.to(device)\n",
    "            yy = yy.to(device)\n",
    "            h = net(xx)\n",
    "            loss = loss_fn(h, yy)\n",
    "            # 勾配を初期化\n",
    "            optimizer.zero_grad()\n",
    "            loss.backward()\n",
    "            optimizer.step()\n",
    "            running_loss += loss.item()\n",
    "            n += len(xx)\n",
    "            _, y_pred = torch.max(h, 1)\n",
    "            n_acc += (yy == y_pred).float().sum().item()\n",
    "        train_losses.append(running_loss / i)\n",
    "        \n",
    "        train_acc.append(n_acc / n)\n",
    "        \n",
    "        val_acc.append(eval_net(net, test_loader, device))\n",
    "        \n",
    "        #学習結果をコンソールに表示\n",
    "        print(epoch, train_losses[-1], train_acc[-1], val_acc[-1], flush=True)\n",
    "            \n"
   ]
  },
  {
   "cell_type": "code",
   "execution_count": 7,
   "metadata": {
    "tags": []
   },
   "outputs": [
    {
     "output_type": "stream",
     "name": "stderr",
     "text": "100%|██████████| 336/336 [00:01<00:00, 259.15it/s]\n0 1.5139556393694522 0.9624404761904762 0.977142870426178\n100%|██████████| 336/336 [00:01<00:00, 329.06it/s]1 1.48085010905764 0.9859523809523809 0.9847618937492371\n\n100%|██████████| 336/336 [00:01<00:00, 334.01it/s]\n2 1.4771150944837883 0.9888988095238095 0.9827380776405334\n100%|██████████| 336/336 [00:01<00:00, 335.25it/s]\n3 1.4744558800512286 0.9916369047619048 0.9861904382705688\n100%|██████████| 336/336 [00:01<00:00, 331.56it/s]4 1.4724312558102963 0.9935416666666667 0.9870237708091736\n\n100%|██████████| 336/336 [00:01<00:00, 334.81it/s]\n5 1.4719304921022103 0.994077380952381 0.9882142543792725\n100%|██████████| 336/336 [00:01<00:00, 334.11it/s]\n6 1.4709484705284461 0.9949404761904762 0.9876190423965454\n100%|██████████| 336/336 [00:01<00:00, 311.62it/s]\n7 1.4715494479706037 0.9944047619047619 0.9877380728721619\n100%|██████████| 336/336 [00:01<00:00, 312.14it/s]\n8 1.4712781169521274 0.9944047619047619 0.9888095259666443\n100%|██████████| 336/336 [00:01<00:00, 301.29it/s]\n9 1.4711362643028374 0.9945833333333334 0.9877380728721619\n100%|██████████| 336/336 [00:01<00:00, 296.25it/s]\n10 1.4704769316004282 0.9951488095238096 0.9888095259666443\n100%|██████████| 336/336 [00:01<00:00, 303.96it/s]\n11 1.4703708413821548 0.9955654761904762 0.9876190423965454\n100%|██████████| 336/336 [00:01<00:00, 314.44it/s]\n12 1.4707508855791234 0.9949107142857143 0.9892857074737549\n100%|██████████| 336/336 [00:01<00:00, 300.83it/s]13 1.46999382011926 0.9956547619047619 0.989642858505249\n\n100%|██████████| 336/336 [00:01<00:00, 300.93it/s]14 1.4694736683546608 0.9961309523809524 0.9904761910438538\n\n100%|██████████| 336/336 [00:01<00:00, 315.26it/s]\n15 1.4699740616243278 0.995625 0.988095223903656\n100%|██████████| 336/336 [00:01<00:00, 316.96it/s]\n16 1.4707138477866328 0.995 0.9870237708091736\n100%|██████████| 336/336 [00:01<00:00, 318.10it/s]\n17 1.4690575460889446 0.9964583333333333 0.9905952215194702\n100%|██████████| 336/336 [00:01<00:00, 318.60it/s]\n18 1.468804442348765 0.9967559523809524 0.9876190423965454\n100%|██████████| 336/336 [00:01<00:00, 317.09it/s]\n19 1.4693521040589061 0.9961309523809524 0.9892857074737549\n"
    }
   ],
   "source": [
    "net = CNN()\n",
    "device = 'cuda:0' if torch.cuda.is_available() else 'cpu'\n",
    "net.to(device)\n",
    "train_net(net, train_loader, test_loader, n_iter=20, device=device)"
   ]
  },
  {
   "cell_type": "code",
   "execution_count": 8,
   "metadata": {},
   "outputs": [],
   "source": [
    "torch.save(net.state_dict(), r'../param/parameter.prm')"
   ]
  },
  {
   "cell_type": "code",
   "execution_count": 9,
   "metadata": {},
   "outputs": [],
   "source": [
    "# 検証用データセットを作成\n",
    "test = pd.read_csv(r\"../input/digit-recognizer/test.csv\", dtype=np.float32)\n",
    "\n",
    "# データを正規化し、Tensorを作る\n",
    "features_test = test.values/255\n",
    "features_test = torch.from_numpy(features_test)\n",
    "features_test = features_test.reshape([-1, 1, 28, 28])\n",
    "test = TensorDataset(features_test)\n",
    "\n",
    "# データローダを作成\n",
    "test_loader = DataLoader(test, batch_size=batch_size, shuffle=False)"
   ]
  },
  {
   "cell_type": "code",
   "execution_count": 10,
   "metadata": {},
   "outputs": [],
   "source": [
    "# 推論用の関数\n",
    "def prediction(data_loader, device='cpu'):\n",
    "    net.load_state_dict(torch.load(r'../param/parameter.prm'))\n",
    "    net.eval()\n",
    "    test_pred = torch.LongTensor()\n",
    "\n",
    "    for i, images in enumerate(data_loader):\n",
    "        # print(images[0].size())\n",
    "        images = images[0].to(device)\n",
    "        output = net(images)\n",
    "        _, pred = output.cpu().data.max(1, keepdim=True)\n",
    "        test_pred = torch.cat((test_pred, pred), dim=0)\n",
    "    return test_pred"
   ]
  },
  {
   "cell_type": "code",
   "execution_count": 11,
   "metadata": {},
   "outputs": [],
   "source": [
    "# 推論を行う\n",
    "test_pred = prediction(test_loader, device=device)\n",
    "\n",
    "# データの整形\n",
    "out_df = pd.DataFrame(np.c_[np.arange(1, len(test)+1)[:,None],\n",
    "    test_pred.numpy()], columns=['ImageId', 'Label'])\n",
    "\n",
    "# 出力\n",
    "out_df.head()\n",
    "out_df.to_csv('submission.csv', index=False)"
   ]
  },
  {
   "cell_type": "markdown",
   "metadata": {},
   "source": [
    "TODO\n",
    "- [x] 学習結果を保存する\n",
    "- [x] 保存した学習結果を読み込んで推論\n",
    "- [x] 推論に用いた画像とラベルを表示する  \n",
    "- [ ] 32\\*32 -> 28\\*28 に変更する"
   ]
  },
  {
   "cell_type": "markdown",
   "metadata": {},
   "source": [
    "演習問題"
   ]
  }
 ],
 "metadata": {
  "kernelspec": {
   "display_name": "Python 3.7.5 64-bit ('pytorch': conda)",
   "language": "python",
   "name": "python37564bitpytorchcondac1588a0183c145a7ad887ad140edf980"
  },
  "language_info": {
   "codemirror_mode": {
    "name": "ipython",
    "version": 3
   },
   "file_extension": ".py",
   "mimetype": "text/x-python",
   "name": "python",
   "nbconvert_exporter": "python",
   "pygments_lexer": "ipython3",
   "version": "3.7.5-final"
  }
 },
 "nbformat": 4,
 "nbformat_minor": 2
}